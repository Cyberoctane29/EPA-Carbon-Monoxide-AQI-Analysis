{
 "cells": [
  {
   "cell_type": "markdown",
   "metadata": {},
   "source": [
    "# EPA Carbon Monoxide AQI Analysis"
   ]
  },
  {
   "cell_type": "markdown",
   "metadata": {},
   "source": [
    "## **Introduction**\n",
    "\n",
    "In this notebook, I will take a deeper look at air quality data from the Environmental Protection Agency (EPA), building on my previous analysis of the Air Quality Index (AQI). You can explore my earlier work here:\n",
    "\n",
    " - [GitHub](https://github.com/Cyberoctane29/EPA-Air-Quality-AQI-Analysis): https://github.com/Cyberoctane29/EPA-Air-Quality-AQI-Analysis\n",
    " - [Kaggle](https://www.kaggle.com/code/saswatsethda/epa-air-quality-aqi-analysis): https://www.kaggle.com/code/saswatsethda/epa-air-quality-aqi-analysis\n",
    " \n",
    "While my previous project focused on statistical analysis, exploratory data analysis (EDA), and data structures, this notebook expands on that foundation by incorporating statistical methods, probability analysis, outlier detection, sampling techniques, and hypothesis testing. The primary focus is on carbon monoxide levels and their impact on air pollution and public health.\n",
    "\n",
    "As a member of an analytics team for the United States Environmental Protection Agency (EPA), I have been assigned to analyze air quality data with respect to carbon monoxide, a major air pollutant. The dataset includes information from more than 200 monitoring sites across various states, counties, and cities. By applying statistical techniques, I will explore patterns, detect outliers, and conduct hypothesis testing to generate meaningful insights. These findings will help inform environmental policy decisions, identify regions requiring intervention, and assess how air quality trends impact public health strategies.\n"
   ]
  },
  {
   "cell_type": "markdown",
   "metadata": {},
   "source": [
    "## **Overview**  \n",
    "\n",
    "To achieve this, I will:  \n",
    "\n",
    "- **Perform descriptive statistics** to summarize air quality data across different regions.  \n",
    "- **Determine probability distributions** that best fit the dataset and analyze the spread of AQI values.  \n",
    "- **Detect outliers** using z-scores and other statistical techniques.  \n",
    "- **Apply effective sampling methods** to optimize analysis on large datasets.  \n",
    "- **Conduct hypothesis tests** to assess differences in AQI across locations, helping guide policy decisions.  \n",
    "- **Visualize key trends** in air pollution data using graphs and charts to enhance interpretability.  \n",
    "\n",
    "By carrying out these analyses, I aim to identify **which regions require intervention**, understand **how air quality trends impact public health**, and provide **data-driven insights to support environmental policies**.\n"
   ]
  },
  {
   "cell_type": "markdown",
   "metadata": {},
   "source": [
    "## **Dataset Structure**  \n",
    "\n",
    "### **Air Quality Datasets**  \n",
    "These datasets contain air quality data collected by the Environmental Protection Agency (EPA), specifically focusing on **carbon monoxide** levels across multiple locations in the United States. The data comes from over 200 monitoring sites, each identified by state, county, city, and local site names. The datasets provide key information for analyzing air pollution trends and their potential public health impacts.\n",
    "\n",
    "#### **Dataset 1-c4_epa_air_quality.csv: Air Quality Measurements**  \n",
    "This dataset contains raw air quality data, including:  \n",
    "- **date_local**: The date when the air quality measurement was recorded.  \n",
    "- **state_name**: The U.S. state where the air quality was measured.  \n",
    "- **county_name**: The county where the monitoring site is located.  \n",
    "- **city_name**: The city (if applicable) where the air quality was recorded.  \n",
    "- **local_site_name**: The name of the specific monitoring station.  \n",
    "- **parameter_name**: The pollutant measured, which in this case is carbon monoxide.  \n",
    "- **units_of_measure**: The unit used for measurement (Parts per million).  \n",
    "- **arithmetic_mean**: The average concentration of carbon monoxide for the given date and location.  \n",
    "- **aqi**: The Air Quality Index (AQI) value derived from the carbon monoxide concentration.  \n",
    "\n",
    "#### **Dataset 2-c4_epa_air_quality.csv: Log-Transformed AQI Data**  \n",
    "This dataset contains a **log-transformed** version of the AQI values, which helps in analyzing data distribution and handling skewness in air pollution measurements. It includes:  \n",
    "- **date_local, state_name, county_name, city_name, local_site_name, parameter_name, units_of_measure** (same as Dataset 1).  \n",
    "- **aqi_log**: The natural logarithm of the AQI value for improved statistical analysis.  \n",
    "\n",
    "By using these datasets, this notebook will **analyze air pollution trends, detect outliers, apply hypothesis testing, and provide insights into environmental policies aimed at improving air quality.**  \n"
   ]
  },
  {
   "cell_type": "markdown",
   "metadata": {},
   "source": [
    "## Importing Required Libraries\n",
    "Before beginning the analysis, it is essential to import all necessary libraries. "
   ]
  },
  {
   "cell_type": "code",
   "execution_count": 199,
   "metadata": {},
   "outputs": [],
   "source": [
    "import pandas as pd\n",
    "import numpy as np\n",
    "import matplotlib.pyplot as plt\n",
    "import seaborn as sns\n",
    "from scipy import stats\n",
    "import statsmodels.api as sm"
   ]
  },
  {
   "cell_type": "markdown",
   "metadata": {},
   "source": [
    "# Exploring Air Quality Through Descriptive Statistics"
   ]
  },
  {
   "cell_type": "markdown",
   "metadata": {},
   "source": [
    "### **Introduction**  \n",
    "\n",
    "In this section, I utilize descriptive statistics to analyze and summarize air quality data from the United States Environmental Protection Agency (EPA), uncovering patterns and trends that support informed decision-making on environmental policies and public health initiatives. By employing Python libraries such as **pandas** and **numpy**, I compute key statistical measures—including **mean, median, standard deviation, and percentiles**—to understand the central tendencies and variability of AQI values. Through this exploration, I emphasize the crucial role of descriptive statistics in data interpretation and effective communication of findings.\n"
   ]
  },
  {
   "cell_type": "markdown",
   "metadata": {},
   "source": [
    "I will load the dataset and display a sample of the data.\n"
   ]
  },
  {
   "cell_type": "code",
   "execution_count": 200,
   "metadata": {},
   "outputs": [],
   "source": [
    "epa_data = pd.read_csv(r\"C:\\Users\\saswa\\Documents\\GitHub\\EPA-Carbon-Monoxide-AQI-Analysis\\Data\\c4_epa_air_quality.csv\", index_col = 0)"
   ]
  },
  {
   "cell_type": "markdown",
   "metadata": {},
   "source": [
    "To understand how the dataset is structured, I display the first 10 rows of the data."
   ]
  },
  {
   "cell_type": "code",
   "execution_count": 201,
   "metadata": {},
   "outputs": [
    {
     "data": {
      "text/html": [
       "<div>\n",
       "<style scoped>\n",
       "    .dataframe tbody tr th:only-of-type {\n",
       "        vertical-align: middle;\n",
       "    }\n",
       "\n",
       "    .dataframe tbody tr th {\n",
       "        vertical-align: top;\n",
       "    }\n",
       "\n",
       "    .dataframe thead th {\n",
       "        text-align: right;\n",
       "    }\n",
       "</style>\n",
       "<table border=\"1\" class=\"dataframe\">\n",
       "  <thead>\n",
       "    <tr style=\"text-align: right;\">\n",
       "      <th></th>\n",
       "      <th>date_local</th>\n",
       "      <th>state_name</th>\n",
       "      <th>county_name</th>\n",
       "      <th>city_name</th>\n",
       "      <th>local_site_name</th>\n",
       "      <th>parameter_name</th>\n",
       "      <th>units_of_measure</th>\n",
       "      <th>arithmetic_mean</th>\n",
       "      <th>aqi</th>\n",
       "    </tr>\n",
       "  </thead>\n",
       "  <tbody>\n",
       "    <tr>\n",
       "      <th>0</th>\n",
       "      <td>2018-01-01</td>\n",
       "      <td>Arizona</td>\n",
       "      <td>Maricopa</td>\n",
       "      <td>Buckeye</td>\n",
       "      <td>BUCKEYE</td>\n",
       "      <td>Carbon monoxide</td>\n",
       "      <td>Parts per million</td>\n",
       "      <td>0.473684</td>\n",
       "      <td>7</td>\n",
       "    </tr>\n",
       "    <tr>\n",
       "      <th>1</th>\n",
       "      <td>2018-01-01</td>\n",
       "      <td>Ohio</td>\n",
       "      <td>Belmont</td>\n",
       "      <td>Shadyside</td>\n",
       "      <td>Shadyside</td>\n",
       "      <td>Carbon monoxide</td>\n",
       "      <td>Parts per million</td>\n",
       "      <td>0.263158</td>\n",
       "      <td>5</td>\n",
       "    </tr>\n",
       "    <tr>\n",
       "      <th>2</th>\n",
       "      <td>2018-01-01</td>\n",
       "      <td>Wyoming</td>\n",
       "      <td>Teton</td>\n",
       "      <td>Not in a city</td>\n",
       "      <td>Yellowstone National Park - Old Faithful Snow ...</td>\n",
       "      <td>Carbon monoxide</td>\n",
       "      <td>Parts per million</td>\n",
       "      <td>0.111111</td>\n",
       "      <td>2</td>\n",
       "    </tr>\n",
       "    <tr>\n",
       "      <th>3</th>\n",
       "      <td>2018-01-01</td>\n",
       "      <td>Pennsylvania</td>\n",
       "      <td>Philadelphia</td>\n",
       "      <td>Philadelphia</td>\n",
       "      <td>North East Waste (NEW)</td>\n",
       "      <td>Carbon monoxide</td>\n",
       "      <td>Parts per million</td>\n",
       "      <td>0.300000</td>\n",
       "      <td>3</td>\n",
       "    </tr>\n",
       "    <tr>\n",
       "      <th>4</th>\n",
       "      <td>2018-01-01</td>\n",
       "      <td>Iowa</td>\n",
       "      <td>Polk</td>\n",
       "      <td>Des Moines</td>\n",
       "      <td>CARPENTER</td>\n",
       "      <td>Carbon monoxide</td>\n",
       "      <td>Parts per million</td>\n",
       "      <td>0.215789</td>\n",
       "      <td>3</td>\n",
       "    </tr>\n",
       "    <tr>\n",
       "      <th>5</th>\n",
       "      <td>2018-01-01</td>\n",
       "      <td>Hawaii</td>\n",
       "      <td>Honolulu</td>\n",
       "      <td>Not in a city</td>\n",
       "      <td>Kapolei</td>\n",
       "      <td>Carbon monoxide</td>\n",
       "      <td>Parts per million</td>\n",
       "      <td>0.994737</td>\n",
       "      <td>14</td>\n",
       "    </tr>\n",
       "    <tr>\n",
       "      <th>6</th>\n",
       "      <td>2018-01-01</td>\n",
       "      <td>Hawaii</td>\n",
       "      <td>Honolulu</td>\n",
       "      <td>Not in a city</td>\n",
       "      <td>Kapolei</td>\n",
       "      <td>Carbon monoxide</td>\n",
       "      <td>Parts per million</td>\n",
       "      <td>0.200000</td>\n",
       "      <td>2</td>\n",
       "    </tr>\n",
       "    <tr>\n",
       "      <th>7</th>\n",
       "      <td>2018-01-01</td>\n",
       "      <td>Pennsylvania</td>\n",
       "      <td>Erie</td>\n",
       "      <td>Erie</td>\n",
       "      <td>NaN</td>\n",
       "      <td>Carbon monoxide</td>\n",
       "      <td>Parts per million</td>\n",
       "      <td>0.200000</td>\n",
       "      <td>2</td>\n",
       "    </tr>\n",
       "    <tr>\n",
       "      <th>8</th>\n",
       "      <td>2018-01-01</td>\n",
       "      <td>Hawaii</td>\n",
       "      <td>Honolulu</td>\n",
       "      <td>Honolulu</td>\n",
       "      <td>Honolulu</td>\n",
       "      <td>Carbon monoxide</td>\n",
       "      <td>Parts per million</td>\n",
       "      <td>0.400000</td>\n",
       "      <td>5</td>\n",
       "    </tr>\n",
       "    <tr>\n",
       "      <th>9</th>\n",
       "      <td>2018-01-01</td>\n",
       "      <td>Colorado</td>\n",
       "      <td>Larimer</td>\n",
       "      <td>Fort Collins</td>\n",
       "      <td>Fort Collins - CSU - S. Mason</td>\n",
       "      <td>Carbon monoxide</td>\n",
       "      <td>Parts per million</td>\n",
       "      <td>0.300000</td>\n",
       "      <td>6</td>\n",
       "    </tr>\n",
       "  </tbody>\n",
       "</table>\n",
       "</div>"
      ],
      "text/plain": [
       "   date_local    state_name   county_name      city_name  \\\n",
       "0  2018-01-01       Arizona      Maricopa        Buckeye   \n",
       "1  2018-01-01          Ohio       Belmont      Shadyside   \n",
       "2  2018-01-01       Wyoming         Teton  Not in a city   \n",
       "3  2018-01-01  Pennsylvania  Philadelphia   Philadelphia   \n",
       "4  2018-01-01          Iowa          Polk     Des Moines   \n",
       "5  2018-01-01        Hawaii      Honolulu  Not in a city   \n",
       "6  2018-01-01        Hawaii      Honolulu  Not in a city   \n",
       "7  2018-01-01  Pennsylvania          Erie           Erie   \n",
       "8  2018-01-01        Hawaii      Honolulu       Honolulu   \n",
       "9  2018-01-01      Colorado       Larimer   Fort Collins   \n",
       "\n",
       "                                     local_site_name   parameter_name  \\\n",
       "0                                            BUCKEYE  Carbon monoxide   \n",
       "1                                          Shadyside  Carbon monoxide   \n",
       "2  Yellowstone National Park - Old Faithful Snow ...  Carbon monoxide   \n",
       "3                             North East Waste (NEW)  Carbon monoxide   \n",
       "4                                          CARPENTER  Carbon monoxide   \n",
       "5                                            Kapolei  Carbon monoxide   \n",
       "6                                            Kapolei  Carbon monoxide   \n",
       "7                                                NaN  Carbon monoxide   \n",
       "8                                           Honolulu  Carbon monoxide   \n",
       "9                      Fort Collins - CSU - S. Mason  Carbon monoxide   \n",
       "\n",
       "    units_of_measure  arithmetic_mean  aqi  \n",
       "0  Parts per million         0.473684    7  \n",
       "1  Parts per million         0.263158    5  \n",
       "2  Parts per million         0.111111    2  \n",
       "3  Parts per million         0.300000    3  \n",
       "4  Parts per million         0.215789    3  \n",
       "5  Parts per million         0.994737   14  \n",
       "6  Parts per million         0.200000    2  \n",
       "7  Parts per million         0.200000    2  \n",
       "8  Parts per million         0.400000    5  \n",
       "9  Parts per million         0.300000    6  "
      ]
     },
     "execution_count": 201,
     "metadata": {},
     "output_type": "execute_result"
    }
   ],
   "source": [
    "epa_data.head(10)"
   ]
  },
  {
   "cell_type": "markdown",
   "metadata": {},
   "source": [
    "### Understanding the AQI Column\n",
    "\n",
    "The `aqi` column in the dataset represents the **Air Quality Index (AQI)**, which measures air pollution levels. It helps assess potential health impacts, with higher values indicating poorer air quality. The AQI is based on measurements of pollutants like particulate matter, ozone, carbon monoxide, sulfur dioxide, and nitrogen dioxide.\n",
    "\n",
    "To gain more insights, I use the `info()` function:"
   ]
  },
  {
   "cell_type": "code",
   "execution_count": 202,
   "metadata": {},
   "outputs": [
    {
     "name": "stdout",
     "output_type": "stream",
     "text": [
      "<class 'pandas.core.frame.DataFrame'>\n",
      "Index: 260 entries, 0 to 259\n",
      "Data columns (total 9 columns):\n",
      " #   Column            Non-Null Count  Dtype  \n",
      "---  ------            --------------  -----  \n",
      " 0   date_local        260 non-null    object \n",
      " 1   state_name        260 non-null    object \n",
      " 2   county_name       260 non-null    object \n",
      " 3   city_name         260 non-null    object \n",
      " 4   local_site_name   257 non-null    object \n",
      " 5   parameter_name    260 non-null    object \n",
      " 6   units_of_measure  260 non-null    object \n",
      " 7   arithmetic_mean   260 non-null    float64\n",
      " 8   aqi               260 non-null    int64  \n",
      "dtypes: float64(1), int64(1), object(7)\n",
      "memory usage: 20.3+ KB\n"
     ]
    }
   ],
   "source": [
    "epa_data.info()"
   ]
  },
  {
   "cell_type": "markdown",
   "metadata": {},
   "source": [
    "This provides details on the dataset’s structure, including data types and missing values.\n",
    "\n",
    "Next, I generate a table of descriptive statistics using the `describe()` function:"
   ]
  },
  {
   "cell_type": "code",
   "execution_count": 203,
   "metadata": {},
   "outputs": [
    {
     "data": {
      "text/html": [
       "<div>\n",
       "<style scoped>\n",
       "    .dataframe tbody tr th:only-of-type {\n",
       "        vertical-align: middle;\n",
       "    }\n",
       "\n",
       "    .dataframe tbody tr th {\n",
       "        vertical-align: top;\n",
       "    }\n",
       "\n",
       "    .dataframe thead th {\n",
       "        text-align: right;\n",
       "    }\n",
       "</style>\n",
       "<table border=\"1\" class=\"dataframe\">\n",
       "  <thead>\n",
       "    <tr style=\"text-align: right;\">\n",
       "      <th></th>\n",
       "      <th>arithmetic_mean</th>\n",
       "      <th>aqi</th>\n",
       "    </tr>\n",
       "  </thead>\n",
       "  <tbody>\n",
       "    <tr>\n",
       "      <th>count</th>\n",
       "      <td>260.000000</td>\n",
       "      <td>260.000000</td>\n",
       "    </tr>\n",
       "    <tr>\n",
       "      <th>mean</th>\n",
       "      <td>0.403169</td>\n",
       "      <td>6.757692</td>\n",
       "    </tr>\n",
       "    <tr>\n",
       "      <th>std</th>\n",
       "      <td>0.317902</td>\n",
       "      <td>7.061707</td>\n",
       "    </tr>\n",
       "    <tr>\n",
       "      <th>min</th>\n",
       "      <td>0.000000</td>\n",
       "      <td>0.000000</td>\n",
       "    </tr>\n",
       "    <tr>\n",
       "      <th>25%</th>\n",
       "      <td>0.200000</td>\n",
       "      <td>2.000000</td>\n",
       "    </tr>\n",
       "    <tr>\n",
       "      <th>50%</th>\n",
       "      <td>0.276315</td>\n",
       "      <td>5.000000</td>\n",
       "    </tr>\n",
       "    <tr>\n",
       "      <th>75%</th>\n",
       "      <td>0.516009</td>\n",
       "      <td>9.000000</td>\n",
       "    </tr>\n",
       "    <tr>\n",
       "      <th>max</th>\n",
       "      <td>1.921053</td>\n",
       "      <td>50.000000</td>\n",
       "    </tr>\n",
       "  </tbody>\n",
       "</table>\n",
       "</div>"
      ],
      "text/plain": [
       "       arithmetic_mean         aqi\n",
       "count       260.000000  260.000000\n",
       "mean          0.403169    6.757692\n",
       "std           0.317902    7.061707\n",
       "min           0.000000    0.000000\n",
       "25%           0.200000    2.000000\n",
       "50%           0.276315    5.000000\n",
       "75%           0.516009    9.000000\n",
       "max           1.921053   50.000000"
      ]
     },
     "execution_count": 203,
     "metadata": {},
     "output_type": "execute_result"
    }
   ],
   "source": [
    "epa_data.describe()"
   ]
  },
  {
   "cell_type": "markdown",
   "metadata": {},
   "source": [
    "#### Observations:\n",
    "\n",
    "- The **count value** for the **aqi** column is **260**, indicating that there are **260 recorded AQI measurements** in the dataset. This suggests that the data represents **260 individual air quality observations**, likely corresponding to different time points or locations.  \n",
    "- The **25th percentile** for the **aqi** column is **2**, meaning that **25% of the AQI values in the dataset are below this threshold**. This percentile provides insight into the **lower range of air quality**, indicating that a significant portion of the data falls within the lower AQI values, which may correspond to **better air quality**.  \n",
    "- The **75th percentile** for the **aqi** column is **9**, meaning that **75% of the AQI values in the dataset fall below this value**. This indicates that **the majority of air quality measurements are concentrated within the lower range**, suggesting **relatively lower pollution levels** for a large portion of the data.  \n"
   ]
  },
  {
   "cell_type": "markdown",
   "metadata": {},
   "source": [
    "### Analyzing AQI Across States\n",
    "To analyze the distribution of AQI across states, I use:"
   ]
  },
  {
   "cell_type": "code",
   "execution_count": 204,
   "metadata": {},
   "outputs": [
    {
     "data": {
      "text/plain": [
       "count            260\n",
       "unique            52\n",
       "top       California\n",
       "freq              66\n",
       "Name: state_name, dtype: object"
      ]
     },
     "execution_count": 204,
     "metadata": {},
     "output_type": "execute_result"
    }
   ],
   "source": [
    "epa_data['state_name'].describe()\n"
   ]
  },
  {
   "cell_type": "markdown",
   "metadata": {},
   "source": [
    "#### Key Insights:\n",
    "- There are **260 entries** in the dataset for the state column, with **52 unique states**.\n",
    "- **California appears most frequently (66 times)**, indicating that a significant portion of air quality data is collected from this state, possibly due to higher pollution levels or more monitoring stations."
   ]
  },
  {
   "cell_type": "markdown",
   "metadata": {},
   "source": [
    "### Statistical Analysis of AQI\n",
    "To understand central tendencies and dispersion, I calculate key statistical metrics for the AQI column."
   ]
  },
  {
   "cell_type": "markdown",
   "metadata": {},
   "source": [
    "#### Mean AQI:\n"
   ]
  },
  {
   "cell_type": "code",
   "execution_count": 205,
   "metadata": {},
   "outputs": [
    {
     "data": {
      "text/plain": [
       "np.float64(6.757692307692308)"
      ]
     },
     "execution_count": 205,
     "metadata": {},
     "output_type": "execute_result"
    }
   ],
   "source": [
    "np.mean(epa_data[\"aqi\"])\n"
   ]
  },
  {
   "cell_type": "markdown",
   "metadata": {},
   "source": [
    "- The mean **AQI is approximately 6.76**, indicating that, on average, the air quality index in this dataset remains within the safe range."
   ]
  },
  {
   "cell_type": "markdown",
   "metadata": {},
   "source": [
    "#### Median AQI:"
   ]
  },
  {
   "cell_type": "code",
   "execution_count": 206,
   "metadata": {},
   "outputs": [
    {
     "data": {
      "text/plain": [
       "np.float64(5.0)"
      ]
     },
     "execution_count": 206,
     "metadata": {},
     "output_type": "execute_result"
    }
   ],
   "source": [
    "np.median(epa_data[\"aqi\"])\n"
   ]
  },
  {
   "cell_type": "markdown",
   "metadata": {},
   "source": [
    "- The median **AQI is 5**, which confirms that most air quality readings are relatively low.\n",
    "- Since the mean is slightly higher than the median, the AQI values may be slightly *right-skewed*."
   ]
  },
  {
   "cell_type": "markdown",
   "metadata": {},
   "source": [
    "#### Minimum AQI (Best Recorded Air Quality):"
   ]
  },
  {
   "cell_type": "code",
   "execution_count": 207,
   "metadata": {},
   "outputs": [
    {
     "data": {
      "text/plain": [
       "np.int64(0)"
      ]
     },
     "execution_count": 207,
     "metadata": {},
     "output_type": "execute_result"
    }
   ],
   "source": [
    "np.min(epa_data[\"aqi\"])"
   ]
  },
  {
   "cell_type": "markdown",
   "metadata": {},
   "source": [
    "- The minimum **AQI value is 0**, representing the cleanest air observed in the dataset.\n"
   ]
  },
  {
   "cell_type": "markdown",
   "metadata": {},
   "source": [
    "#### Maximum AQI (Worst Recorded Air Quality):"
   ]
  },
  {
   "cell_type": "code",
   "execution_count": 208,
   "metadata": {},
   "outputs": [
    {
     "data": {
      "text/plain": [
       "np.int64(50)"
      ]
     },
     "execution_count": 208,
     "metadata": {},
     "output_type": "execute_result"
    }
   ],
   "source": [
    "np.max(epa_data[\"aqi\"])"
   ]
  },
  {
   "cell_type": "markdown",
   "metadata": {},
   "source": [
    "- The maximum **AQI value is 50**, which is still well below the threshold of 100, indicating that even the worst recorded air quality remains within the safe range."
   ]
  },
  {
   "cell_type": "markdown",
   "metadata": {},
   "source": [
    "#### Standard Deviation of AQI:\n",
    "\n",
    "Now, I will compute the **standard deviation** for the `aqi` column.\n",
    "\n",
    "By default, the **numpy** library uses **0** as the **Delta Degrees of Freedom (ddof)**, while the **pandas** library uses **1**. To obtain the same standard deviation value using either library, I will specify the `ddof` parameter as **1** when performing the calculation.\n"
   ]
  },
  {
   "cell_type": "code",
   "execution_count": 209,
   "metadata": {},
   "outputs": [
    {
     "data": {
      "text/plain": [
       "np.float64(7.061706678820724)"
      ]
     },
     "execution_count": 209,
     "metadata": {},
     "output_type": "execute_result"
    }
   ],
   "source": [
    "np.std(epa_data[\"aqi\"], ddof=1)\n"
   ]
  },
  {
   "cell_type": "markdown",
   "metadata": {},
   "source": [
    "The s**tandard deviation is approximately 7.06**, indicating moderate variability in AQI values across the dataset."
   ]
  },
  {
   "cell_type": "markdown",
   "metadata": {},
   "source": [
    "### Key Takeaways  \n",
    "\n",
    "- The **pandas** and **numpy** libraries provide powerful functions for computing descriptive statistics.  \n",
    "- The **describe()** function in pandas provides a comprehensive summary of numerical or categorical columns.  \n",
    "- Functions like **mean()**, **median()**, **min()**, **max()**, and **std()** in numpy allow for precise calculation of individual statistics.  \n",
    "\n",
    "---\n",
    "\n",
    "### Summary of Findings  \n",
    "\n",
    "- The **arithmetic_mean** and **aqi** columns are **slightly right-skewed**.  \n",
    "- The **range** of **arithmetic_mean** is **1.9**, while the **range** of **aqi** is **50**.  \n",
    "- The **median values** are **0.276** (arithmetic_mean) and **5** (aqi).  \n",
    "- The **standard deviations** are **0.3** for arithmetic_mean and **7.06** for aqi.  \n",
    "- The **mean values** are **0.4** (arithmetic_mean) and **6.57** (aqi).  \n",
    "- These insights suggest that **arithmetic_mean has less variability**, while **AQI shows moderate variability** in the dataset.  \n",
    "---\n",
    "### Presentation of Findings to Others  \n",
    "To effectively present the findings to others, I would highlight key AQI statistics and relate them to air quality standards provided by AirNow.gov.  \n",
    "\n",
    "- The **average AQI value** in this dataset is approximately **6.76**, which falls well within the **\"safe\" range**.  \n",
    "- **75% of the AQI values** are below **9**, indicating that most of the data represents **satisfactory air quality**.  \n",
    "- The **AQI values** in this dataset **do not exceed 50**, which is significantly below the threshold of **100**. This implies that **even for sensitive groups, the air quality is considered safe**.  \n",
    "- For **carbon monoxide**, an **AQI of 50** corresponds to **4.7 parts per million (ppm)**, which is well below the **harmful level of 9.4 ppm** associated with an AQI of **100**.  \n",
    "---\n",
    "\n",
    "### Summary for Stakeholders  \n",
    "To provide stakeholders with a clear summary, I would focus on key descriptive statistics and their implications:  \n",
    "\n",
    "- **AQI Range and Distribution**: The AQI values range from **0 to 50**, with **75% of the values below 9**. This suggests that the air quality is predominantly within the **\"good\" range**, as defined by AirNow.gov.  \n",
    "- **Central Tendency**: The **mean AQI is 6.76**, reflecting **satisfactory air quality**. Additionally, the **median AQI is 5**, showing that most values are clustered toward the lower end of the range.  \n",
    "- **Variability**: The **standard deviation of AQI is 7.06**, indicating **moderate variability** in air quality measurements across the dataset.  \n",
    "- **Interpretation for Stakeholders**: All AQI values in the dataset are **well below 100**, meaning the air quality is **safe even for sensitive groups**. For carbon monoxide, an **AQI of 50 corresponds to 4.7 ppm**, which is **significantly below the harmful level of 9.4 ppm** associated with an AQI of **100**.  "
   ]
  },
  {
   "cell_type": "markdown",
   "metadata": {},
   "source": [
    "# Understanding and Analyzing Probability Distribution"
   ]
  },
  {
   "cell_type": "markdown",
   "metadata": {},
   "source": [
    "### **Introduction**  \n",
    "\n",
    "In this section, I explore probability distributions to assess air quality data from the United States Environmental Protection Agency (EPA). Understanding probability distributions is crucial for analyzing how data behaves, identifying patterns, and detecting anomalies. By applying the empirical rule and computing z-scores, I determine whether air quality follows a normal distribution and identify potential outliers. The dataset includes log-transformed AQI readings (aqi_log) to better approximate a normal distribution, aiding in statistical analysis."
   ]
  },
  {
   "cell_type": "markdown",
   "metadata": {},
   "source": [
    " I load the dataset, which is a subset of the EPA’s air quality data, transformed for this analysis.\n"
   ]
  },
  {
   "cell_type": "code",
   "execution_count": 210,
   "metadata": {},
   "outputs": [],
   "source": [
    "data = pd.read_csv(r\"C:\\Users\\saswa\\Documents\\GitHub\\EPA-Carbon-Monoxide-AQI-Analysis\\Data\\modified_c4_epa_air_quality.csv\")"
   ]
  },
  {
   "cell_type": "markdown",
   "metadata": {},
   "source": [
    "## **Exploring the Data**  \n",
    "\n",
    "To understand the dataset structure, I display the first 10 rows:\n"
   ]
  },
  {
   "cell_type": "code",
   "execution_count": 211,
   "metadata": {},
   "outputs": [
    {
     "data": {
      "text/html": [
       "<div>\n",
       "<style scoped>\n",
       "    .dataframe tbody tr th:only-of-type {\n",
       "        vertical-align: middle;\n",
       "    }\n",
       "\n",
       "    .dataframe tbody tr th {\n",
       "        vertical-align: top;\n",
       "    }\n",
       "\n",
       "    .dataframe thead th {\n",
       "        text-align: right;\n",
       "    }\n",
       "</style>\n",
       "<table border=\"1\" class=\"dataframe\">\n",
       "  <thead>\n",
       "    <tr style=\"text-align: right;\">\n",
       "      <th></th>\n",
       "      <th>date_local</th>\n",
       "      <th>state_name</th>\n",
       "      <th>county_name</th>\n",
       "      <th>city_name</th>\n",
       "      <th>local_site_name</th>\n",
       "      <th>parameter_name</th>\n",
       "      <th>units_of_measure</th>\n",
       "      <th>aqi_log</th>\n",
       "    </tr>\n",
       "  </thead>\n",
       "  <tbody>\n",
       "    <tr>\n",
       "      <th>0</th>\n",
       "      <td>2018-01-01</td>\n",
       "      <td>Arizona</td>\n",
       "      <td>Maricopa</td>\n",
       "      <td>Buckeye</td>\n",
       "      <td>BUCKEYE</td>\n",
       "      <td>Carbon monoxide</td>\n",
       "      <td>Parts per million</td>\n",
       "      <td>2.079442</td>\n",
       "    </tr>\n",
       "    <tr>\n",
       "      <th>1</th>\n",
       "      <td>2018-01-01</td>\n",
       "      <td>Ohio</td>\n",
       "      <td>Belmont</td>\n",
       "      <td>Shadyside</td>\n",
       "      <td>Shadyside</td>\n",
       "      <td>Carbon monoxide</td>\n",
       "      <td>Parts per million</td>\n",
       "      <td>1.791759</td>\n",
       "    </tr>\n",
       "    <tr>\n",
       "      <th>2</th>\n",
       "      <td>2018-01-01</td>\n",
       "      <td>Wyoming</td>\n",
       "      <td>Teton</td>\n",
       "      <td>Not in a city</td>\n",
       "      <td>Yellowstone National Park - Old Faithful Snow ...</td>\n",
       "      <td>Carbon monoxide</td>\n",
       "      <td>Parts per million</td>\n",
       "      <td>1.098612</td>\n",
       "    </tr>\n",
       "    <tr>\n",
       "      <th>3</th>\n",
       "      <td>2018-01-01</td>\n",
       "      <td>Pennsylvania</td>\n",
       "      <td>Philadelphia</td>\n",
       "      <td>Philadelphia</td>\n",
       "      <td>North East Waste (NEW)</td>\n",
       "      <td>Carbon monoxide</td>\n",
       "      <td>Parts per million</td>\n",
       "      <td>1.386294</td>\n",
       "    </tr>\n",
       "    <tr>\n",
       "      <th>4</th>\n",
       "      <td>2018-01-01</td>\n",
       "      <td>Iowa</td>\n",
       "      <td>Polk</td>\n",
       "      <td>Des Moines</td>\n",
       "      <td>CARPENTER</td>\n",
       "      <td>Carbon monoxide</td>\n",
       "      <td>Parts per million</td>\n",
       "      <td>1.386294</td>\n",
       "    </tr>\n",
       "    <tr>\n",
       "      <th>5</th>\n",
       "      <td>2018-01-01</td>\n",
       "      <td>Hawaii</td>\n",
       "      <td>Honolulu</td>\n",
       "      <td>Not in a city</td>\n",
       "      <td>Kapolei</td>\n",
       "      <td>Carbon monoxide</td>\n",
       "      <td>Parts per million</td>\n",
       "      <td>2.708050</td>\n",
       "    </tr>\n",
       "    <tr>\n",
       "      <th>6</th>\n",
       "      <td>2018-01-01</td>\n",
       "      <td>Hawaii</td>\n",
       "      <td>Honolulu</td>\n",
       "      <td>Not in a city</td>\n",
       "      <td>Kapolei</td>\n",
       "      <td>Carbon monoxide</td>\n",
       "      <td>Parts per million</td>\n",
       "      <td>1.098612</td>\n",
       "    </tr>\n",
       "    <tr>\n",
       "      <th>7</th>\n",
       "      <td>2018-01-01</td>\n",
       "      <td>Pennsylvania</td>\n",
       "      <td>Erie</td>\n",
       "      <td>Erie</td>\n",
       "      <td>NaN</td>\n",
       "      <td>Carbon monoxide</td>\n",
       "      <td>Parts per million</td>\n",
       "      <td>1.098612</td>\n",
       "    </tr>\n",
       "    <tr>\n",
       "      <th>8</th>\n",
       "      <td>2018-01-01</td>\n",
       "      <td>Hawaii</td>\n",
       "      <td>Honolulu</td>\n",
       "      <td>Honolulu</td>\n",
       "      <td>Honolulu</td>\n",
       "      <td>Carbon monoxide</td>\n",
       "      <td>Parts per million</td>\n",
       "      <td>1.791759</td>\n",
       "    </tr>\n",
       "    <tr>\n",
       "      <th>9</th>\n",
       "      <td>2018-01-01</td>\n",
       "      <td>Colorado</td>\n",
       "      <td>Larimer</td>\n",
       "      <td>Fort Collins</td>\n",
       "      <td>Fort Collins - CSU - S. Mason</td>\n",
       "      <td>Carbon monoxide</td>\n",
       "      <td>Parts per million</td>\n",
       "      <td>1.945910</td>\n",
       "    </tr>\n",
       "  </tbody>\n",
       "</table>\n",
       "</div>"
      ],
      "text/plain": [
       "   date_local    state_name   county_name      city_name  \\\n",
       "0  2018-01-01       Arizona      Maricopa        Buckeye   \n",
       "1  2018-01-01          Ohio       Belmont      Shadyside   \n",
       "2  2018-01-01       Wyoming         Teton  Not in a city   \n",
       "3  2018-01-01  Pennsylvania  Philadelphia   Philadelphia   \n",
       "4  2018-01-01          Iowa          Polk     Des Moines   \n",
       "5  2018-01-01        Hawaii      Honolulu  Not in a city   \n",
       "6  2018-01-01        Hawaii      Honolulu  Not in a city   \n",
       "7  2018-01-01  Pennsylvania          Erie           Erie   \n",
       "8  2018-01-01        Hawaii      Honolulu       Honolulu   \n",
       "9  2018-01-01      Colorado       Larimer   Fort Collins   \n",
       "\n",
       "                                     local_site_name   parameter_name  \\\n",
       "0                                            BUCKEYE  Carbon monoxide   \n",
       "1                                          Shadyside  Carbon monoxide   \n",
       "2  Yellowstone National Park - Old Faithful Snow ...  Carbon monoxide   \n",
       "3                             North East Waste (NEW)  Carbon monoxide   \n",
       "4                                          CARPENTER  Carbon monoxide   \n",
       "5                                            Kapolei  Carbon monoxide   \n",
       "6                                            Kapolei  Carbon monoxide   \n",
       "7                                                NaN  Carbon monoxide   \n",
       "8                                           Honolulu  Carbon monoxide   \n",
       "9                      Fort Collins - CSU - S. Mason  Carbon monoxide   \n",
       "\n",
       "    units_of_measure   aqi_log  \n",
       "0  Parts per million  2.079442  \n",
       "1  Parts per million  1.791759  \n",
       "2  Parts per million  1.098612  \n",
       "3  Parts per million  1.386294  \n",
       "4  Parts per million  1.386294  \n",
       "5  Parts per million  2.708050  \n",
       "6  Parts per million  1.098612  \n",
       "7  Parts per million  1.098612  \n",
       "8  Parts per million  1.791759  \n",
       "9  Parts per million  1.945910  "
      ]
     },
     "execution_count": 211,
     "metadata": {},
     "output_type": "execute_result"
    }
   ],
   "source": [
    "data.head(10)\n"
   ]
  },
  {
   "cell_type": "markdown",
   "metadata": {},
   "source": [
    "The dataset includes a **log-transformed AQI column (`aqi_log`)**, which is useful for evaluating normality. I also check the number of rows and columns:  \n"
   ]
  },
  {
   "cell_type": "code",
   "execution_count": 212,
   "metadata": {},
   "outputs": [
    {
     "data": {
      "text/plain": [
       "(260, 8)"
      ]
     },
     "execution_count": 212,
     "metadata": {},
     "output_type": "execute_result"
    }
   ],
   "source": [
    "data.shape\n"
   ]
  },
  {
   "cell_type": "markdown",
   "metadata": {},
   "source": [
    "### **Visualizing the Distribution of AQI Data**  \n",
    "\n",
    "To analyze how `aqi_log` is distributed, I generate a histogram:  \n"
   ]
  },
  {
   "cell_type": "code",
   "execution_count": 213,
   "metadata": {},
   "outputs": [
    {
     "data": {
      "image/png": "[encoded data removed]",
      "text/plain": [
       "<Figure size 640x480 with 1 Axes>"
      ]
     },
     "metadata": {},
     "output_type": "display_data"
    }
   ],
   "source": [
    "data['aqi_log'].hist()\n",
    "plt.xlabel('Log-Transformed AQI')\n",
    "plt.ylabel('Frequency')\n",
    "plt.title('Histogram of AQI Log Values')\n",
    "plt.show()"
   ]
  },
  {
   "cell_type": "markdown",
   "metadata": {},
   "source": [
    "#### **Observation**  \n",
    "The histogram shows that the **distribution is slightly right-skewed** but retains an approximately **bell-shaped curve**, indicating that the data is **approximately normal**."
   ]
  },
  {
   "cell_type": "markdown",
   "metadata": {},
   "source": [
    "## **Applying the Empirical Rule**  \n",
    "\n",
    "The **empirical rule** states that for a normal distribution:  \n",
    "- **68%** of data falls within **1 standard deviation** of the mean.  \n",
    "- **95%** falls within **2 standard deviations** of the mean.  \n",
    "- **99.7%** falls within **3 standard deviations** of the mean.  \n",
    "\n",
    "First, I calculate the **mean and standard deviation** of `aqi_log`:  "
   ]
  },
  {
   "cell_type": "code",
   "execution_count": 214,
   "metadata": {},
   "outputs": [
    {
     "name": "stdout",
     "output_type": "stream",
     "text": [
      "Mean: 1.7669210929985582, Standard Deviation: 0.7147155520223721\n"
     ]
    }
   ],
   "source": [
    "aqi_mean = data['aqi_log'].mean()\n",
    "aqi_std = data['aqi_log'].std()\n",
    "print(f\"Mean: {aqi_mean}, Standard Deviation: {aqi_std}\")"
   ]
  },
  {
   "cell_type": "markdown",
   "metadata": {},
   "source": [
    "### **Checking the Empirical Rule for 1 Standard Deviation**  \n",
    "\n",
    "I define the lower and upper limits:  \n"
   ]
  },
  {
   "cell_type": "code",
   "execution_count": 215,
   "metadata": {},
   "outputs": [
    {
     "name": "stdout",
     "output_type": "stream",
     "text": [
      "Lower Limit: 1.052205540976186, Upper Limit: 2.4816366450209304\n"
     ]
    }
   ],
   "source": [
    "lower_limit = aqi_mean - aqi_std\n",
    "upper_limit = aqi_mean + aqi_std\n",
    "print(f\"Lower Limit: {lower_limit}, Upper Limit: {upper_limit}\")"
   ]
  },
  {
   "cell_type": "markdown",
   "metadata": {},
   "source": [
    "Then, I calculate the **percentage of data within 1 standard deviation**:  \n"
   ]
  },
  {
   "cell_type": "code",
   "execution_count": 216,
   "metadata": {},
   "outputs": [
    {
     "name": "stdout",
     "output_type": "stream",
     "text": [
      "Percentage within 1 standard deviation: 76.15384615384615%\n"
     ]
    }
   ],
   "source": [
    "within_1_std = ((data['aqi_log'] >= lower_limit) & (data['aqi_log'] <= upper_limit)).mean() * 100\n",
    "print(f\"Percentage within 1 standard deviation: {within_1_std}%\")"
   ]
  },
  {
   "cell_type": "markdown",
   "metadata": {},
   "source": [
    "### **Checking the Empirical Rule for 2 Standard Deviations**  \n",
    "\n",
    "I extend the range to **2 standard deviations**:  \n"
   ]
  },
  {
   "cell_type": "code",
   "execution_count": 217,
   "metadata": {},
   "outputs": [
    {
     "name": "stdout",
     "output_type": "stream",
     "text": [
      "Lower Limit: 0.3374899889538139, Upper Limit: 3.1963521970433026\n"
     ]
    }
   ],
   "source": [
    "lower_limit1 = aqi_mean - 2 * aqi_std\n",
    "upper_limit1 = aqi_mean + 2 * aqi_std\n",
    "print(f\"Lower Limit: {lower_limit1}, Upper Limit: {upper_limit1}\")"
   ]
  },
  {
   "cell_type": "markdown",
   "metadata": {},
   "source": [
    "Then, I compute the **percentage of data within 2 standard deviations**:  \n"
   ]
  },
  {
   "cell_type": "code",
   "execution_count": 218,
   "metadata": {},
   "outputs": [
    {
     "name": "stdout",
     "output_type": "stream",
     "text": [
      "Percentage within 2 standard deviations: 95.76923076923077%\n"
     ]
    }
   ],
   "source": [
    "within_2_std = ((data['aqi_log'] >= lower_limit1) & (data['aqi_log'] <= upper_limit1)).mean() * 100\n",
    "print(f\"Percentage within 2 standard deviations: {within_2_std}%\")"
   ]
  },
  {
   "cell_type": "markdown",
   "metadata": {},
   "source": [
    "### **Checking the Empirical Rule for 3 Standard Deviations**  \n",
    "\n",
    "I extend the range further to **3 standard deviations**:  "
   ]
  },
  {
   "cell_type": "code",
   "execution_count": 219,
   "metadata": {},
   "outputs": [
    {
     "name": "stdout",
     "output_type": "stream",
     "text": [
      "Lower Limit: -0.37722556306855815, Upper Limit: 3.9110677490656744\n"
     ]
    }
   ],
   "source": [
    "lower_limit2 = aqi_mean - 3 * aqi_std\n",
    "upper_limit2 = aqi_mean + 3 * aqi_std\n",
    "print(f\"Lower Limit: {lower_limit2}, Upper Limit: {upper_limit2}\")"
   ]
  },
  {
   "cell_type": "markdown",
   "metadata": {},
   "source": [
    "Then, I calculate the **percentage of data within 3 standard deviations**:  \n"
   ]
  },
  {
   "cell_type": "code",
   "execution_count": 220,
   "metadata": {},
   "outputs": [
    {
     "name": "stdout",
     "output_type": "stream",
     "text": [
      "Percentage within 3 standard deviations: 99.61538461538461%\n"
     ]
    }
   ],
   "source": [
    "within_3_std = ((data['aqi_log'] >= lower_limit2) & (data['aqi_log'] <= upper_limit2)).mean() * 100\n",
    "print(f\"Percentage within 3 standard deviations: {within_3_std}%\")"
   ]
  },
  {
   "cell_type": "markdown",
   "metadata": {},
   "source": [
    "\n",
    "#### **Empirical Rule Results:**  \n",
    "- **76.15%** of the data falls within **1 standard deviation** of the mean.  \n",
    "- **95.77%** falls within **2 standard deviations** of the mean.  \n",
    "- **99.62%** falls within **3 standard deviations** of the mean.  \n",
    "  \n",
    "While the **2 and 3 standard deviation percentages closely match the expected values (95% and 99.7%)**, the **1 standard deviation percentage (76.15%) is higher than the expected 68%**, suggesting **a slight deviation from normality**.  "
   ]
  },
  {
   "cell_type": "markdown",
   "metadata": {},
   "source": [
    "## **Identifying Outliers Using Z-Scores**  \n"
   ]
  },
  {
   "cell_type": "markdown",
   "metadata": {},
   "source": [
    "A **z-score** measures how many standard deviations a data point is from the mean. **Outliers typically have z-scores beyond ±3.**  \n",
    "\n",
    "I calculate the **z-score for each AQI log value**:  "
   ]
  },
  {
   "cell_type": "code",
   "execution_count": 221,
   "metadata": {},
   "outputs": [
    {
     "data": {
      "text/html": [
       "<div>\n",
       "<style scoped>\n",
       "    .dataframe tbody tr th:only-of-type {\n",
       "        vertical-align: middle;\n",
       "    }\n",
       "\n",
       "    .dataframe tbody tr th {\n",
       "        vertical-align: top;\n",
       "    }\n",
       "\n",
       "    .dataframe thead th {\n",
       "        text-align: right;\n",
       "    }\n",
       "</style>\n",
       "<table border=\"1\" class=\"dataframe\">\n",
       "  <thead>\n",
       "    <tr style=\"text-align: right;\">\n",
       "      <th></th>\n",
       "      <th>date_local</th>\n",
       "      <th>state_name</th>\n",
       "      <th>county_name</th>\n",
       "      <th>city_name</th>\n",
       "      <th>local_site_name</th>\n",
       "      <th>parameter_name</th>\n",
       "      <th>units_of_measure</th>\n",
       "      <th>aqi_log</th>\n",
       "      <th>z_score</th>\n",
       "    </tr>\n",
       "  </thead>\n",
       "  <tbody>\n",
       "    <tr>\n",
       "      <th>0</th>\n",
       "      <td>2018-01-01</td>\n",
       "      <td>Arizona</td>\n",
       "      <td>Maricopa</td>\n",
       "      <td>Buckeye</td>\n",
       "      <td>BUCKEYE</td>\n",
       "      <td>Carbon monoxide</td>\n",
       "      <td>Parts per million</td>\n",
       "      <td>2.079442</td>\n",
       "      <td>0.437265</td>\n",
       "    </tr>\n",
       "    <tr>\n",
       "      <th>1</th>\n",
       "      <td>2018-01-01</td>\n",
       "      <td>Ohio</td>\n",
       "      <td>Belmont</td>\n",
       "      <td>Shadyside</td>\n",
       "      <td>Shadyside</td>\n",
       "      <td>Carbon monoxide</td>\n",
       "      <td>Parts per million</td>\n",
       "      <td>1.791759</td>\n",
       "      <td>0.034753</td>\n",
       "    </tr>\n",
       "    <tr>\n",
       "      <th>2</th>\n",
       "      <td>2018-01-01</td>\n",
       "      <td>Wyoming</td>\n",
       "      <td>Teton</td>\n",
       "      <td>Not in a city</td>\n",
       "      <td>Yellowstone National Park - Old Faithful Snow ...</td>\n",
       "      <td>Carbon monoxide</td>\n",
       "      <td>Parts per million</td>\n",
       "      <td>1.098612</td>\n",
       "      <td>-0.935070</td>\n",
       "    </tr>\n",
       "    <tr>\n",
       "      <th>3</th>\n",
       "      <td>2018-01-01</td>\n",
       "      <td>Pennsylvania</td>\n",
       "      <td>Philadelphia</td>\n",
       "      <td>Philadelphia</td>\n",
       "      <td>North East Waste (NEW)</td>\n",
       "      <td>Carbon monoxide</td>\n",
       "      <td>Parts per million</td>\n",
       "      <td>1.386294</td>\n",
       "      <td>-0.532557</td>\n",
       "    </tr>\n",
       "    <tr>\n",
       "      <th>4</th>\n",
       "      <td>2018-01-01</td>\n",
       "      <td>Iowa</td>\n",
       "      <td>Polk</td>\n",
       "      <td>Des Moines</td>\n",
       "      <td>CARPENTER</td>\n",
       "      <td>Carbon monoxide</td>\n",
       "      <td>Parts per million</td>\n",
       "      <td>1.386294</td>\n",
       "      <td>-0.532557</td>\n",
       "    </tr>\n",
       "    <tr>\n",
       "      <th>5</th>\n",
       "      <td>2018-01-01</td>\n",
       "      <td>Hawaii</td>\n",
       "      <td>Honolulu</td>\n",
       "      <td>Not in a city</td>\n",
       "      <td>Kapolei</td>\n",
       "      <td>Carbon monoxide</td>\n",
       "      <td>Parts per million</td>\n",
       "      <td>2.708050</td>\n",
       "      <td>1.316788</td>\n",
       "    </tr>\n",
       "    <tr>\n",
       "      <th>6</th>\n",
       "      <td>2018-01-01</td>\n",
       "      <td>Hawaii</td>\n",
       "      <td>Honolulu</td>\n",
       "      <td>Not in a city</td>\n",
       "      <td>Kapolei</td>\n",
       "      <td>Carbon monoxide</td>\n",
       "      <td>Parts per million</td>\n",
       "      <td>1.098612</td>\n",
       "      <td>-0.935070</td>\n",
       "    </tr>\n",
       "    <tr>\n",
       "      <th>7</th>\n",
       "      <td>2018-01-01</td>\n",
       "      <td>Pennsylvania</td>\n",
       "      <td>Erie</td>\n",
       "      <td>Erie</td>\n",
       "      <td>NaN</td>\n",
       "      <td>Carbon monoxide</td>\n",
       "      <td>Parts per million</td>\n",
       "      <td>1.098612</td>\n",
       "      <td>-0.935070</td>\n",
       "    </tr>\n",
       "    <tr>\n",
       "      <th>8</th>\n",
       "      <td>2018-01-01</td>\n",
       "      <td>Hawaii</td>\n",
       "      <td>Honolulu</td>\n",
       "      <td>Honolulu</td>\n",
       "      <td>Honolulu</td>\n",
       "      <td>Carbon monoxide</td>\n",
       "      <td>Parts per million</td>\n",
       "      <td>1.791759</td>\n",
       "      <td>0.034753</td>\n",
       "    </tr>\n",
       "    <tr>\n",
       "      <th>9</th>\n",
       "      <td>2018-01-01</td>\n",
       "      <td>Colorado</td>\n",
       "      <td>Larimer</td>\n",
       "      <td>Fort Collins</td>\n",
       "      <td>Fort Collins - CSU - S. Mason</td>\n",
       "      <td>Carbon monoxide</td>\n",
       "      <td>Parts per million</td>\n",
       "      <td>1.945910</td>\n",
       "      <td>0.250434</td>\n",
       "    </tr>\n",
       "  </tbody>\n",
       "</table>\n",
       "</div>"
      ],
      "text/plain": [
       "   date_local    state_name   county_name      city_name  \\\n",
       "0  2018-01-01       Arizona      Maricopa        Buckeye   \n",
       "1  2018-01-01          Ohio       Belmont      Shadyside   \n",
       "2  2018-01-01       Wyoming         Teton  Not in a city   \n",
       "3  2018-01-01  Pennsylvania  Philadelphia   Philadelphia   \n",
       "4  2018-01-01          Iowa          Polk     Des Moines   \n",
       "5  2018-01-01        Hawaii      Honolulu  Not in a city   \n",
       "6  2018-01-01        Hawaii      Honolulu  Not in a city   \n",
       "7  2018-01-01  Pennsylvania          Erie           Erie   \n",
       "8  2018-01-01        Hawaii      Honolulu       Honolulu   \n",
       "9  2018-01-01      Colorado       Larimer   Fort Collins   \n",
       "\n",
       "                                     local_site_name   parameter_name  \\\n",
       "0                                            BUCKEYE  Carbon monoxide   \n",
       "1                                          Shadyside  Carbon monoxide   \n",
       "2  Yellowstone National Park - Old Faithful Snow ...  Carbon monoxide   \n",
       "3                             North East Waste (NEW)  Carbon monoxide   \n",
       "4                                          CARPENTER  Carbon monoxide   \n",
       "5                                            Kapolei  Carbon monoxide   \n",
       "6                                            Kapolei  Carbon monoxide   \n",
       "7                                                NaN  Carbon monoxide   \n",
       "8                                           Honolulu  Carbon monoxide   \n",
       "9                      Fort Collins - CSU - S. Mason  Carbon monoxide   \n",
       "\n",
       "    units_of_measure   aqi_log   z_score  \n",
       "0  Parts per million  2.079442  0.437265  \n",
       "1  Parts per million  1.791759  0.034753  \n",
       "2  Parts per million  1.098612 -0.935070  \n",
       "3  Parts per million  1.386294 -0.532557  \n",
       "4  Parts per million  1.386294 -0.532557  \n",
       "5  Parts per million  2.708050  1.316788  \n",
       "6  Parts per million  1.098612 -0.935070  \n",
       "7  Parts per million  1.098612 -0.935070  \n",
       "8  Parts per million  1.791759  0.034753  \n",
       "9  Parts per million  1.945910  0.250434  "
      ]
     },
     "execution_count": 221,
     "metadata": {},
     "output_type": "execute_result"
    }
   ],
   "source": [
    "data[\"z_score\"] = stats.zscore(data[\"aqi_log\"], ddof=1)\n",
    "data.head(10)"
   ]
  },
  {
   "cell_type": "markdown",
   "metadata": {},
   "source": [
    "### **Detecting Outliers**  \n",
    "\n",
    "I filter for values where the **z-score is greater than 3 or less than -3**:  "
   ]
  },
  {
   "cell_type": "code",
   "execution_count": 222,
   "metadata": {},
   "outputs": [
    {
     "data": {
      "text/html": [
       "<div>\n",
       "<style scoped>\n",
       "    .dataframe tbody tr th:only-of-type {\n",
       "        vertical-align: middle;\n",
       "    }\n",
       "\n",
       "    .dataframe tbody tr th {\n",
       "        vertical-align: top;\n",
       "    }\n",
       "\n",
       "    .dataframe thead th {\n",
       "        text-align: right;\n",
       "    }\n",
       "</style>\n",
       "<table border=\"1\" class=\"dataframe\">\n",
       "  <thead>\n",
       "    <tr style=\"text-align: right;\">\n",
       "      <th></th>\n",
       "      <th>date_local</th>\n",
       "      <th>state_name</th>\n",
       "      <th>county_name</th>\n",
       "      <th>city_name</th>\n",
       "      <th>local_site_name</th>\n",
       "      <th>parameter_name</th>\n",
       "      <th>units_of_measure</th>\n",
       "      <th>aqi_log</th>\n",
       "      <th>z_score</th>\n",
       "    </tr>\n",
       "  </thead>\n",
       "  <tbody>\n",
       "    <tr>\n",
       "      <th>244</th>\n",
       "      <td>2018-01-01</td>\n",
       "      <td>Arizona</td>\n",
       "      <td>Maricopa</td>\n",
       "      <td>Phoenix</td>\n",
       "      <td>WEST PHOENIX</td>\n",
       "      <td>Carbon monoxide</td>\n",
       "      <td>Parts per million</td>\n",
       "      <td>3.931826</td>\n",
       "      <td>3.029044</td>\n",
       "    </tr>\n",
       "  </tbody>\n",
       "</table>\n",
       "</div>"
      ],
      "text/plain": [
       "     date_local state_name county_name city_name local_site_name  \\\n",
       "244  2018-01-01    Arizona    Maricopa   Phoenix    WEST PHOENIX   \n",
       "\n",
       "      parameter_name   units_of_measure   aqi_log   z_score  \n",
       "244  Carbon monoxide  Parts per million  3.931826  3.029044  "
      ]
     },
     "execution_count": 222,
     "metadata": {},
     "output_type": "execute_result"
    }
   ],
   "source": [
    "outliers = data[(data[\"z_score\"] > 3) | (data[\"z_score\"] < -3)]\n",
    "outliers"
   ]
  },
  {
   "cell_type": "markdown",
   "metadata": {},
   "source": [
    "#### **Observation on Outliers:**  \n",
    "- The **West Phoenix site** has an **aqi_log of 3.93** with a **z-score of 3.02**, which **exceeds the +3 threshold**.  \n",
    "- This suggests **significantly higher air pollution** compared to other locations.  \n",
    "- **West Phoenix is an outlier and may require additional investigation.**  "
   ]
  },
  {
   "cell_type": "markdown",
   "metadata": {},
   "source": [
    "## **Key Takeaways**  \n",
    "\n",
    "- **Visualizing the histogram** helps assess whether the data follows a normal distribution.  \n",
    "- The **empirical rule** effectively confirms **approximate normality** in the dataset.  \n",
    "- **Z-scores** allow for easy identification of **outliers**.  \n",
    "- **West Phoenix stands out as an air quality outlier**, warranting further research.  \n",
    "\n",
    "Tools like scipy and statsmodels are invaluable for data manipulation, visualization, and statistical analysis. They assist in standardizing data, such as using z-scores to scale observations relative to the mean, helping identify values that are 1, 2, or 3 standard deviations above or below the population mean.\n",
    "\n",
    "---\n",
    "\n",
    "## **Summary for Stakeholders**  \n",
    "\n",
    "- The **log-transformed AQI data approximates a normal distribution**, making it more suitable for statistical analysis.  \n",
    "- **West Phoenix is an outlier**, with an **aqi_log of 3.93 and a z-score of 3.02**, indicating **significantly higher air pollution levels** compared to other locations.  \n",
    "- **76.15% of AQI values fall within one standard deviation**, which is **higher than the expected 68%**, suggesting a **slightly more concentrated distribution** around the mean."
   ]
  },
  {
   "cell_type": "markdown",
   "metadata": {},
   "source": [
    "# Analyzing Sampling Techniques and Their Impact on Data Insights"
   ]
  },
  {
   "cell_type": "markdown",
   "metadata": {},
   "source": [
    "### **Introduction**\n",
    "\n",
    "In this section, I will engage in effective sampling techniques to streamline the analysis of a large dataset. As a data professional, working with extensive datasets is common, and applying proper sampling methods enhances efficiency and accuracy in data-driven insights.  \n",
    "\n",
    "Continuing from the previous scenario, I am part of an analytics team at the Environmental Protection Agency. My task is to analyze air quality data, specifically focusing on carbon monoxide—a significant air pollutant. To ensure a manageable and representative dataset, I will implement effective sampling techniques and report key findings based on the selected samples."
   ]
  },
  {
   "cell_type": "code",
   "execution_count": 223,
   "metadata": {},
   "outputs": [
    {
     "data": {
      "text/html": [
       "<div>\n",
       "<style scoped>\n",
       "    .dataframe tbody tr th:only-of-type {\n",
       "        vertical-align: middle;\n",
       "    }\n",
       "\n",
       "    .dataframe tbody tr th {\n",
       "        vertical-align: top;\n",
       "    }\n",
       "\n",
       "    .dataframe thead th {\n",
       "        text-align: right;\n",
       "    }\n",
       "</style>\n",
       "<table border=\"1\" class=\"dataframe\">\n",
       "  <thead>\n",
       "    <tr style=\"text-align: right;\">\n",
       "      <th></th>\n",
       "      <th>date_local</th>\n",
       "      <th>state_name</th>\n",
       "      <th>county_name</th>\n",
       "      <th>city_name</th>\n",
       "      <th>local_site_name</th>\n",
       "      <th>parameter_name</th>\n",
       "      <th>units_of_measure</th>\n",
       "      <th>arithmetic_mean</th>\n",
       "      <th>aqi</th>\n",
       "    </tr>\n",
       "  </thead>\n",
       "  <tbody>\n",
       "    <tr>\n",
       "      <th>0</th>\n",
       "      <td>2018-01-01</td>\n",
       "      <td>Arizona</td>\n",
       "      <td>Maricopa</td>\n",
       "      <td>Buckeye</td>\n",
       "      <td>BUCKEYE</td>\n",
       "      <td>Carbon monoxide</td>\n",
       "      <td>Parts per million</td>\n",
       "      <td>0.473684</td>\n",
       "      <td>7</td>\n",
       "    </tr>\n",
       "    <tr>\n",
       "      <th>1</th>\n",
       "      <td>2018-01-01</td>\n",
       "      <td>Ohio</td>\n",
       "      <td>Belmont</td>\n",
       "      <td>Shadyside</td>\n",
       "      <td>Shadyside</td>\n",
       "      <td>Carbon monoxide</td>\n",
       "      <td>Parts per million</td>\n",
       "      <td>0.263158</td>\n",
       "      <td>5</td>\n",
       "    </tr>\n",
       "    <tr>\n",
       "      <th>2</th>\n",
       "      <td>2018-01-01</td>\n",
       "      <td>Wyoming</td>\n",
       "      <td>Teton</td>\n",
       "      <td>Not in a city</td>\n",
       "      <td>Yellowstone National Park - Old Faithful Snow ...</td>\n",
       "      <td>Carbon monoxide</td>\n",
       "      <td>Parts per million</td>\n",
       "      <td>0.111111</td>\n",
       "      <td>2</td>\n",
       "    </tr>\n",
       "    <tr>\n",
       "      <th>3</th>\n",
       "      <td>2018-01-01</td>\n",
       "      <td>Pennsylvania</td>\n",
       "      <td>Philadelphia</td>\n",
       "      <td>Philadelphia</td>\n",
       "      <td>North East Waste (NEW)</td>\n",
       "      <td>Carbon monoxide</td>\n",
       "      <td>Parts per million</td>\n",
       "      <td>0.300000</td>\n",
       "      <td>3</td>\n",
       "    </tr>\n",
       "    <tr>\n",
       "      <th>4</th>\n",
       "      <td>2018-01-01</td>\n",
       "      <td>Iowa</td>\n",
       "      <td>Polk</td>\n",
       "      <td>Des Moines</td>\n",
       "      <td>CARPENTER</td>\n",
       "      <td>Carbon monoxide</td>\n",
       "      <td>Parts per million</td>\n",
       "      <td>0.215789</td>\n",
       "      <td>3</td>\n",
       "    </tr>\n",
       "    <tr>\n",
       "      <th>5</th>\n",
       "      <td>2018-01-01</td>\n",
       "      <td>Hawaii</td>\n",
       "      <td>Honolulu</td>\n",
       "      <td>Not in a city</td>\n",
       "      <td>Kapolei</td>\n",
       "      <td>Carbon monoxide</td>\n",
       "      <td>Parts per million</td>\n",
       "      <td>0.994737</td>\n",
       "      <td>14</td>\n",
       "    </tr>\n",
       "    <tr>\n",
       "      <th>6</th>\n",
       "      <td>2018-01-01</td>\n",
       "      <td>Hawaii</td>\n",
       "      <td>Honolulu</td>\n",
       "      <td>Not in a city</td>\n",
       "      <td>Kapolei</td>\n",
       "      <td>Carbon monoxide</td>\n",
       "      <td>Parts per million</td>\n",
       "      <td>0.200000</td>\n",
       "      <td>2</td>\n",
       "    </tr>\n",
       "    <tr>\n",
       "      <th>7</th>\n",
       "      <td>2018-01-01</td>\n",
       "      <td>Pennsylvania</td>\n",
       "      <td>Erie</td>\n",
       "      <td>Erie</td>\n",
       "      <td>NaN</td>\n",
       "      <td>Carbon monoxide</td>\n",
       "      <td>Parts per million</td>\n",
       "      <td>0.200000</td>\n",
       "      <td>2</td>\n",
       "    </tr>\n",
       "    <tr>\n",
       "      <th>8</th>\n",
       "      <td>2018-01-01</td>\n",
       "      <td>Hawaii</td>\n",
       "      <td>Honolulu</td>\n",
       "      <td>Honolulu</td>\n",
       "      <td>Honolulu</td>\n",
       "      <td>Carbon monoxide</td>\n",
       "      <td>Parts per million</td>\n",
       "      <td>0.400000</td>\n",
       "      <td>5</td>\n",
       "    </tr>\n",
       "    <tr>\n",
       "      <th>9</th>\n",
       "      <td>2018-01-01</td>\n",
       "      <td>Colorado</td>\n",
       "      <td>Larimer</td>\n",
       "      <td>Fort Collins</td>\n",
       "      <td>Fort Collins - CSU - S. Mason</td>\n",
       "      <td>Carbon monoxide</td>\n",
       "      <td>Parts per million</td>\n",
       "      <td>0.300000</td>\n",
       "      <td>6</td>\n",
       "    </tr>\n",
       "  </tbody>\n",
       "</table>\n",
       "</div>"
      ],
      "text/plain": [
       "   date_local    state_name   county_name      city_name  \\\n",
       "0  2018-01-01       Arizona      Maricopa        Buckeye   \n",
       "1  2018-01-01          Ohio       Belmont      Shadyside   \n",
       "2  2018-01-01       Wyoming         Teton  Not in a city   \n",
       "3  2018-01-01  Pennsylvania  Philadelphia   Philadelphia   \n",
       "4  2018-01-01          Iowa          Polk     Des Moines   \n",
       "5  2018-01-01        Hawaii      Honolulu  Not in a city   \n",
       "6  2018-01-01        Hawaii      Honolulu  Not in a city   \n",
       "7  2018-01-01  Pennsylvania          Erie           Erie   \n",
       "8  2018-01-01        Hawaii      Honolulu       Honolulu   \n",
       "9  2018-01-01      Colorado       Larimer   Fort Collins   \n",
       "\n",
       "                                     local_site_name   parameter_name  \\\n",
       "0                                            BUCKEYE  Carbon monoxide   \n",
       "1                                          Shadyside  Carbon monoxide   \n",
       "2  Yellowstone National Park - Old Faithful Snow ...  Carbon monoxide   \n",
       "3                             North East Waste (NEW)  Carbon monoxide   \n",
       "4                                          CARPENTER  Carbon monoxide   \n",
       "5                                            Kapolei  Carbon monoxide   \n",
       "6                                            Kapolei  Carbon monoxide   \n",
       "7                                                NaN  Carbon monoxide   \n",
       "8                                           Honolulu  Carbon monoxide   \n",
       "9                      Fort Collins - CSU - S. Mason  Carbon monoxide   \n",
       "\n",
       "    units_of_measure  arithmetic_mean  aqi  \n",
       "0  Parts per million         0.473684    7  \n",
       "1  Parts per million         0.263158    5  \n",
       "2  Parts per million         0.111111    2  \n",
       "3  Parts per million         0.300000    3  \n",
       "4  Parts per million         0.215789    3  \n",
       "5  Parts per million         0.994737   14  \n",
       "6  Parts per million         0.200000    2  \n",
       "7  Parts per million         0.200000    2  \n",
       "8  Parts per million         0.400000    5  \n",
       "9  Parts per million         0.300000    6  "
      ]
     },
     "execution_count": 223,
     "metadata": {},
     "output_type": "execute_result"
    }
   ],
   "source": [
    "epa_data.head(10)"
   ]
  },
  {
   "cell_type": "markdown",
   "metadata": {},
   "source": [
    "The dataset contains information on air quality measurements, including an `aqi` column representing the **Air Quality Index (AQI)**, which ranges from 0 to 500.\n"
   ]
  },
  {
   "cell_type": "markdown",
   "metadata": {},
   "source": [
    "### **Descriptive Statistics**\n",
    "To understand the dataset distribution, I generate descriptive statistics.\n"
   ]
  },
  {
   "cell_type": "code",
   "execution_count": 224,
   "metadata": {},
   "outputs": [
    {
     "data": {
      "text/html": [
       "<div>\n",
       "<style scoped>\n",
       "    .dataframe tbody tr th:only-of-type {\n",
       "        vertical-align: middle;\n",
       "    }\n",
       "\n",
       "    .dataframe tbody tr th {\n",
       "        vertical-align: top;\n",
       "    }\n",
       "\n",
       "    .dataframe thead th {\n",
       "        text-align: right;\n",
       "    }\n",
       "</style>\n",
       "<table border=\"1\" class=\"dataframe\">\n",
       "  <thead>\n",
       "    <tr style=\"text-align: right;\">\n",
       "      <th></th>\n",
       "      <th>date_local</th>\n",
       "      <th>state_name</th>\n",
       "      <th>county_name</th>\n",
       "      <th>city_name</th>\n",
       "      <th>local_site_name</th>\n",
       "      <th>parameter_name</th>\n",
       "      <th>units_of_measure</th>\n",
       "      <th>arithmetic_mean</th>\n",
       "      <th>aqi</th>\n",
       "    </tr>\n",
       "  </thead>\n",
       "  <tbody>\n",
       "    <tr>\n",
       "      <th>count</th>\n",
       "      <td>260</td>\n",
       "      <td>260</td>\n",
       "      <td>260</td>\n",
       "      <td>260</td>\n",
       "      <td>257</td>\n",
       "      <td>260</td>\n",
       "      <td>260</td>\n",
       "      <td>260.000000</td>\n",
       "      <td>260.000000</td>\n",
       "    </tr>\n",
       "    <tr>\n",
       "      <th>unique</th>\n",
       "      <td>1</td>\n",
       "      <td>52</td>\n",
       "      <td>149</td>\n",
       "      <td>190</td>\n",
       "      <td>253</td>\n",
       "      <td>1</td>\n",
       "      <td>1</td>\n",
       "      <td>NaN</td>\n",
       "      <td>NaN</td>\n",
       "    </tr>\n",
       "    <tr>\n",
       "      <th>top</th>\n",
       "      <td>2018-01-01</td>\n",
       "      <td>California</td>\n",
       "      <td>Los Angeles</td>\n",
       "      <td>Not in a city</td>\n",
       "      <td>Kapolei</td>\n",
       "      <td>Carbon monoxide</td>\n",
       "      <td>Parts per million</td>\n",
       "      <td>NaN</td>\n",
       "      <td>NaN</td>\n",
       "    </tr>\n",
       "    <tr>\n",
       "      <th>freq</th>\n",
       "      <td>260</td>\n",
       "      <td>66</td>\n",
       "      <td>14</td>\n",
       "      <td>21</td>\n",
       "      <td>2</td>\n",
       "      <td>260</td>\n",
       "      <td>260</td>\n",
       "      <td>NaN</td>\n",
       "      <td>NaN</td>\n",
       "    </tr>\n",
       "    <tr>\n",
       "      <th>mean</th>\n",
       "      <td>NaN</td>\n",
       "      <td>NaN</td>\n",
       "      <td>NaN</td>\n",
       "      <td>NaN</td>\n",
       "      <td>NaN</td>\n",
       "      <td>NaN</td>\n",
       "      <td>NaN</td>\n",
       "      <td>0.403169</td>\n",
       "      <td>6.757692</td>\n",
       "    </tr>\n",
       "    <tr>\n",
       "      <th>std</th>\n",
       "      <td>NaN</td>\n",
       "      <td>NaN</td>\n",
       "      <td>NaN</td>\n",
       "      <td>NaN</td>\n",
       "      <td>NaN</td>\n",
       "      <td>NaN</td>\n",
       "      <td>NaN</td>\n",
       "      <td>0.317902</td>\n",
       "      <td>7.061707</td>\n",
       "    </tr>\n",
       "    <tr>\n",
       "      <th>min</th>\n",
       "      <td>NaN</td>\n",
       "      <td>NaN</td>\n",
       "      <td>NaN</td>\n",
       "      <td>NaN</td>\n",
       "      <td>NaN</td>\n",
       "      <td>NaN</td>\n",
       "      <td>NaN</td>\n",
       "      <td>0.000000</td>\n",
       "      <td>0.000000</td>\n",
       "    </tr>\n",
       "    <tr>\n",
       "      <th>25%</th>\n",
       "      <td>NaN</td>\n",
       "      <td>NaN</td>\n",
       "      <td>NaN</td>\n",
       "      <td>NaN</td>\n",
       "      <td>NaN</td>\n",
       "      <td>NaN</td>\n",
       "      <td>NaN</td>\n",
       "      <td>0.200000</td>\n",
       "      <td>2.000000</td>\n",
       "    </tr>\n",
       "    <tr>\n",
       "      <th>50%</th>\n",
       "      <td>NaN</td>\n",
       "      <td>NaN</td>\n",
       "      <td>NaN</td>\n",
       "      <td>NaN</td>\n",
       "      <td>NaN</td>\n",
       "      <td>NaN</td>\n",
       "      <td>NaN</td>\n",
       "      <td>0.276315</td>\n",
       "      <td>5.000000</td>\n",
       "    </tr>\n",
       "    <tr>\n",
       "      <th>75%</th>\n",
       "      <td>NaN</td>\n",
       "      <td>NaN</td>\n",
       "      <td>NaN</td>\n",
       "      <td>NaN</td>\n",
       "      <td>NaN</td>\n",
       "      <td>NaN</td>\n",
       "      <td>NaN</td>\n",
       "      <td>0.516009</td>\n",
       "      <td>9.000000</td>\n",
       "    </tr>\n",
       "    <tr>\n",
       "      <th>max</th>\n",
       "      <td>NaN</td>\n",
       "      <td>NaN</td>\n",
       "      <td>NaN</td>\n",
       "      <td>NaN</td>\n",
       "      <td>NaN</td>\n",
       "      <td>NaN</td>\n",
       "      <td>NaN</td>\n",
       "      <td>1.921053</td>\n",
       "      <td>50.000000</td>\n",
       "    </tr>\n",
       "  </tbody>\n",
       "</table>\n",
       "</div>"
      ],
      "text/plain": [
       "        date_local  state_name  county_name      city_name local_site_name  \\\n",
       "count          260         260          260            260             257   \n",
       "unique           1          52          149            190             253   \n",
       "top     2018-01-01  California  Los Angeles  Not in a city         Kapolei   \n",
       "freq           260          66           14             21               2   \n",
       "mean           NaN         NaN          NaN            NaN             NaN   \n",
       "std            NaN         NaN          NaN            NaN             NaN   \n",
       "min            NaN         NaN          NaN            NaN             NaN   \n",
       "25%            NaN         NaN          NaN            NaN             NaN   \n",
       "50%            NaN         NaN          NaN            NaN             NaN   \n",
       "75%            NaN         NaN          NaN            NaN             NaN   \n",
       "max            NaN         NaN          NaN            NaN             NaN   \n",
       "\n",
       "         parameter_name   units_of_measure  arithmetic_mean         aqi  \n",
       "count               260                260       260.000000  260.000000  \n",
       "unique                1                  1              NaN         NaN  \n",
       "top     Carbon monoxide  Parts per million              NaN         NaN  \n",
       "freq                260                260              NaN         NaN  \n",
       "mean                NaN                NaN         0.403169    6.757692  \n",
       "std                 NaN                NaN         0.317902    7.061707  \n",
       "min                 NaN                NaN         0.000000    0.000000  \n",
       "25%                 NaN                NaN         0.200000    2.000000  \n",
       "50%                 NaN                NaN         0.276315    5.000000  \n",
       "75%                 NaN                NaN         0.516009    9.000000  \n",
       "max                 NaN                NaN         1.921053   50.000000  "
      ]
     },
     "execution_count": 224,
     "metadata": {},
     "output_type": "execute_result"
    }
   ],
   "source": [
    "epa_data.describe(include='all')"
   ]
  },
  {
   "cell_type": "code",
   "execution_count": 225,
   "metadata": {},
   "outputs": [
    {
     "data": {
      "text/plain": [
       "np.float64(5.0)"
      ]
     },
     "execution_count": 225,
     "metadata": {},
     "output_type": "execute_result"
    }
   ],
   "source": [
    "epa_data['aqi'].median()"
   ]
  },
  {
   "cell_type": "code",
   "execution_count": 226,
   "metadata": {},
   "outputs": [
    {
     "data": {
      "text/plain": [
       "np.float64(6.757692307692308)"
      ]
     },
     "execution_count": 226,
     "metadata": {},
     "output_type": "execute_result"
    }
   ],
   "source": [
    "population_mean = epa_data['aqi'].mean()\n",
    "population_mean"
   ]
  },
  {
   "cell_type": "markdown",
   "metadata": {},
   "source": [
    "- **Median AQI:** 5.0 \n",
    "- **Mean AQI:** 6.757692  \n",
    "- **Total AQI Measurements:** 260  \n",
    "  \n",
    "The mean AQI value will later be compared with the sample mean to evaluate sampling accuracy.\n"
   ]
  },
  {
   "cell_type": "markdown",
   "metadata": {},
   "source": [
    "\n",
    "## **Statistical Sampling**\n",
    "### **Sampling with Replacement**\n",
    "I extract a random sample of 50 AQI values from the dataset using **sampling with replacement**."
   ]
  },
  {
   "cell_type": "code",
   "execution_count": 227,
   "metadata": {},
   "outputs": [
    {
     "data": {
      "text/html": [
       "<div>\n",
       "<style scoped>\n",
       "    .dataframe tbody tr th:only-of-type {\n",
       "        vertical-align: middle;\n",
       "    }\n",
       "\n",
       "    .dataframe tbody tr th {\n",
       "        vertical-align: top;\n",
       "    }\n",
       "\n",
       "    .dataframe thead th {\n",
       "        text-align: right;\n",
       "    }\n",
       "</style>\n",
       "<table border=\"1\" class=\"dataframe\">\n",
       "  <thead>\n",
       "    <tr style=\"text-align: right;\">\n",
       "      <th></th>\n",
       "      <th>date_local</th>\n",
       "      <th>state_name</th>\n",
       "      <th>county_name</th>\n",
       "      <th>city_name</th>\n",
       "      <th>local_site_name</th>\n",
       "      <th>parameter_name</th>\n",
       "      <th>units_of_measure</th>\n",
       "      <th>arithmetic_mean</th>\n",
       "      <th>aqi</th>\n",
       "    </tr>\n",
       "  </thead>\n",
       "  <tbody>\n",
       "    <tr>\n",
       "      <th>102</th>\n",
       "      <td>2018-01-01</td>\n",
       "      <td>Texas</td>\n",
       "      <td>Harris</td>\n",
       "      <td>Houston</td>\n",
       "      <td>Clinton</td>\n",
       "      <td>Carbon monoxide</td>\n",
       "      <td>Parts per million</td>\n",
       "      <td>0.157895</td>\n",
       "      <td>2</td>\n",
       "    </tr>\n",
       "    <tr>\n",
       "      <th>106</th>\n",
       "      <td>2018-01-01</td>\n",
       "      <td>California</td>\n",
       "      <td>Imperial</td>\n",
       "      <td>Calexico</td>\n",
       "      <td>Calexico-Ethel Street</td>\n",
       "      <td>Carbon monoxide</td>\n",
       "      <td>Parts per million</td>\n",
       "      <td>1.183333</td>\n",
       "      <td>26</td>\n",
       "    </tr>\n",
       "    <tr>\n",
       "      <th>71</th>\n",
       "      <td>2018-01-01</td>\n",
       "      <td>Alabama</td>\n",
       "      <td>Jefferson</td>\n",
       "      <td>Birmingham</td>\n",
       "      <td>Arkadelphia/Near Road</td>\n",
       "      <td>Carbon monoxide</td>\n",
       "      <td>Parts per million</td>\n",
       "      <td>0.200000</td>\n",
       "      <td>2</td>\n",
       "    </tr>\n",
       "    <tr>\n",
       "      <th>188</th>\n",
       "      <td>2018-01-01</td>\n",
       "      <td>Arizona</td>\n",
       "      <td>Maricopa</td>\n",
       "      <td>Tempe</td>\n",
       "      <td>Diablo</td>\n",
       "      <td>Carbon monoxide</td>\n",
       "      <td>Parts per million</td>\n",
       "      <td>0.542105</td>\n",
       "      <td>10</td>\n",
       "    </tr>\n",
       "    <tr>\n",
       "      <th>20</th>\n",
       "      <td>2018-01-01</td>\n",
       "      <td>Virginia</td>\n",
       "      <td>Roanoke</td>\n",
       "      <td>Vinton</td>\n",
       "      <td>East Vinton Elementary School</td>\n",
       "      <td>Carbon monoxide</td>\n",
       "      <td>Parts per million</td>\n",
       "      <td>0.100000</td>\n",
       "      <td>1</td>\n",
       "    </tr>\n",
       "    <tr>\n",
       "      <th>102</th>\n",
       "      <td>2018-01-01</td>\n",
       "      <td>Texas</td>\n",
       "      <td>Harris</td>\n",
       "      <td>Houston</td>\n",
       "      <td>Clinton</td>\n",
       "      <td>Carbon monoxide</td>\n",
       "      <td>Parts per million</td>\n",
       "      <td>0.157895</td>\n",
       "      <td>2</td>\n",
       "    </tr>\n",
       "    <tr>\n",
       "      <th>121</th>\n",
       "      <td>2018-01-01</td>\n",
       "      <td>North Carolina</td>\n",
       "      <td>Mecklenburg</td>\n",
       "      <td>Charlotte</td>\n",
       "      <td>Garinger High School</td>\n",
       "      <td>Carbon monoxide</td>\n",
       "      <td>Parts per million</td>\n",
       "      <td>0.200000</td>\n",
       "      <td>2</td>\n",
       "    </tr>\n",
       "    <tr>\n",
       "      <th>214</th>\n",
       "      <td>2018-01-01</td>\n",
       "      <td>Florida</td>\n",
       "      <td>Broward</td>\n",
       "      <td>Davie</td>\n",
       "      <td>Daniela Banu NCORE</td>\n",
       "      <td>Carbon monoxide</td>\n",
       "      <td>Parts per million</td>\n",
       "      <td>0.273684</td>\n",
       "      <td>5</td>\n",
       "    </tr>\n",
       "    <tr>\n",
       "      <th>87</th>\n",
       "      <td>2018-01-01</td>\n",
       "      <td>California</td>\n",
       "      <td>Humboldt</td>\n",
       "      <td>Eureka</td>\n",
       "      <td>Jacobs</td>\n",
       "      <td>Carbon monoxide</td>\n",
       "      <td>Parts per million</td>\n",
       "      <td>0.393750</td>\n",
       "      <td>5</td>\n",
       "    </tr>\n",
       "    <tr>\n",
       "      <th>99</th>\n",
       "      <td>2018-01-01</td>\n",
       "      <td>California</td>\n",
       "      <td>Santa Barbara</td>\n",
       "      <td>Goleta</td>\n",
       "      <td>Goleta</td>\n",
       "      <td>Carbon monoxide</td>\n",
       "      <td>Parts per million</td>\n",
       "      <td>0.222222</td>\n",
       "      <td>3</td>\n",
       "    </tr>\n",
       "  </tbody>\n",
       "</table>\n",
       "</div>"
      ],
      "text/plain": [
       "     date_local      state_name    county_name   city_name  \\\n",
       "102  2018-01-01           Texas         Harris     Houston   \n",
       "106  2018-01-01      California       Imperial    Calexico   \n",
       "71   2018-01-01         Alabama      Jefferson  Birmingham   \n",
       "188  2018-01-01         Arizona       Maricopa       Tempe   \n",
       "20   2018-01-01        Virginia        Roanoke      Vinton   \n",
       "102  2018-01-01           Texas         Harris     Houston   \n",
       "121  2018-01-01  North Carolina    Mecklenburg   Charlotte   \n",
       "214  2018-01-01         Florida        Broward       Davie   \n",
       "87   2018-01-01      California       Humboldt      Eureka   \n",
       "99   2018-01-01      California  Santa Barbara      Goleta   \n",
       "\n",
       "                   local_site_name   parameter_name   units_of_measure  \\\n",
       "102                        Clinton  Carbon monoxide  Parts per million   \n",
       "106          Calexico-Ethel Street  Carbon monoxide  Parts per million   \n",
       "71           Arkadelphia/Near Road  Carbon monoxide  Parts per million   \n",
       "188                         Diablo  Carbon monoxide  Parts per million   \n",
       "20   East Vinton Elementary School  Carbon monoxide  Parts per million   \n",
       "102                        Clinton  Carbon monoxide  Parts per million   \n",
       "121           Garinger High School  Carbon monoxide  Parts per million   \n",
       "214             Daniela Banu NCORE  Carbon monoxide  Parts per million   \n",
       "87                          Jacobs  Carbon monoxide  Parts per million   \n",
       "99                          Goleta  Carbon monoxide  Parts per million   \n",
       "\n",
       "     arithmetic_mean  aqi  \n",
       "102         0.157895    2  \n",
       "106         1.183333   26  \n",
       "71          0.200000    2  \n",
       "188         0.542105   10  \n",
       "20          0.100000    1  \n",
       "102         0.157895    2  \n",
       "121         0.200000    2  \n",
       "214         0.273684    5  \n",
       "87          0.393750    5  \n",
       "99          0.222222    3  "
      ]
     },
     "execution_count": 227,
     "metadata": {},
     "output_type": "execute_result"
    }
   ],
   "source": [
    "sampled_data = epa_data.sample(n=50, replace=True, random_state=42)\n",
    "sampled_data.head(10)"
   ]
  },
  {
   "cell_type": "markdown",
   "metadata": {},
   "source": [
    "### **Key Insights**\n",
    "- **Repeated Row Indices:** Some rows appear more than once due to sampling with replacement.\n",
    "- **Random Seed (`random_state`)** ensures reproducibility in sampling."
   ]
  },
  {
   "cell_type": "markdown",
   "metadata": {},
   "source": [
    "### **Comparing Sample and Population Means**\n",
    "I calculate the **population mean** and **sample mean** to analyze sampling variability."
   ]
  },
  {
   "cell_type": "code",
   "execution_count": 228,
   "metadata": {},
   "outputs": [
    {
     "data": {
      "text/plain": [
       "(np.float64(6.757692307692308), np.float64(5.54))"
      ]
     },
     "execution_count": 228,
     "metadata": {},
     "output_type": "execute_result"
    }
   ],
   "source": [
    "sample_mean = sampled_data['aqi'].mean()\n",
    "\n",
    "population_mean, sample_mean"
   ]
  },
  {
   "cell_type": "markdown",
   "metadata": {},
   "source": [
    "- The **sample mean differs from the population mean** due to sampling variability.\n"
   ]
  },
  {
   "cell_type": "markdown",
   "metadata": {},
   "source": [
    "## **Central Limit Theorem (CLT) in Action**\n",
    "The **Central Limit Theorem (CLT)** states that as the number of random samples increases, the sampling distribution of the sample mean approaches a normal distribution.\n",
    "\n",
    "Imagine repeating the the earlier sample with replacement 10,000 times and obtaining 10,000 point estimates of the mean. In other words, imagine taking 10,000 random samples of 50 AQI values and computing the mean for each sample. \n",
    "\n",
    "### **Simulating the Sampling Distribution**\n",
    "I take **10,000 random samples** (with replacement) and compute the mean for each."
   ]
  },
  {
   "cell_type": "code",
   "execution_count": 229,
   "metadata": {},
   "outputs": [
    {
     "data": {
      "text/plain": [
       "np.float64(6.765575999999999)"
      ]
     },
     "execution_count": 229,
     "metadata": {},
     "output_type": "execute_result"
    }
   ],
   "source": [
    "estimate_list = [epa_data['aqi'].sample(n=50, replace=True).mean() for _ in range(10000)]\n",
    "\n",
    "# Convert to DataFrame\n",
    "estimate_df = pd.DataFrame({'estimate': estimate_list})\n",
    "\n",
    "# Compute the mean of sample means\n",
    "mean_sample_means = estimate_df['estimate'].mean()\n",
    "\n",
    "mean_sample_means"
   ]
  },
  {
   "cell_type": "markdown",
   "metadata": {},
   "source": [
    "\n",
    "- **Mean of Sample Means:** 6.748  \n",
    "- The mean of sample means closely matches the population mean, confirming the CLT."
   ]
  },
  {
   "cell_type": "markdown",
   "metadata": {},
   "source": [
    "Random sampling with replacement supports the central limit theorem by ensuring independent observations from the population. According to the theorem, if the sample size is sufficiently large and observations are independent, the sampling distribution of the sample mean approaches a normal distribution. This distribution's mean equals the population mean, and its standard deviation is the standard error. Sampling with replacement maintains independence, allowing the theorem to hold and reducing selection bias."
   ]
  },
  {
   "cell_type": "markdown",
   "metadata": {},
   "source": [
    "## **Visualization and Standard Error Calculation**\n",
    "### **Histogram of Sampling Distribution**\n",
    "I visualize the **sampling distribution** using a histogram."
   ]
  },
  {
   "cell_type": "code",
   "execution_count": 230,
   "metadata": {},
   "outputs": [
    {
     "data": {
      "image/png": "[encoded data removed]",
      "text/plain": [
       "<Figure size 640x480 with 1 Axes>"
      ]
     },
     "metadata": {},
     "output_type": "display_data"
    }
   ],
   "source": [
    "estimate_df['estimate'].hist()\n",
    "plt.xlabel('Sample Mean')\n",
    "plt.ylabel('Frequency')\n",
    "plt.title('Histogram of Sample Means')\n",
    "plt.show()"
   ]
  },
  {
   "cell_type": "markdown",
   "metadata": {},
   "source": [
    "\n",
    "### **Standard Error Calculation**\n",
    "\n",
    "Calculating the **standard error** of the mean AQI using the initial sample of 50."
   ]
  },
  {
   "cell_type": "code",
   "execution_count": 231,
   "metadata": {},
   "outputs": [
    {
     "data": {
      "text/plain": [
       "np.float64(0.7413225908290325)"
      ]
     },
     "execution_count": 231,
     "metadata": {},
     "output_type": "execute_result"
    }
   ],
   "source": [
    "standard_error = sampled_data['aqi'].std() / np.sqrt(len(sampled_data))\n",
    "standard_error"
   ]
  },
  {
   "cell_type": "markdown",
   "metadata": {},
   "source": [
    "The **standard error** of a statistic measures the sample-to-sample variability of the sample statistic. It provides a numerical measure of sampling variability and answers the question: How far is a statistic based on one particular sample from the actual value of the statistic?"
   ]
  },
  {
   "cell_type": "markdown",
   "metadata": {},
   "source": [
    "## **Relationship Between Sampling and Normal Distributions**\n",
    "To compare the **sampling distribution** with a **normal distribution**, I plot:\n",
    "\n",
    "- A histogram of **10,000 sample means**  \n",
    "- Vertical lines for:\n",
    "  - **Population mean** (solid green)\n",
    "  - **Sample mean from the first sample** (dashed red)\n",
    "  - **Mean of sample means** (dotted blue)\n",
    "  - **Theoretical normal distribution curve**"
   ]
  },
  {
   "cell_type": "code",
   "execution_count": 232,
   "metadata": {},
   "outputs": [
    {
     "data": {
      "image/png": "[encoded data removed]",
      "text/plain": [
       "<Figure size 800x500 with 1 Axes>"
      ]
     },
     "metadata": {},
     "output_type": "display_data"
    }
   ],
   "source": [
    "plt.figure(figsize=(8,5))\n",
    "plt.hist(estimate_df['estimate'], bins=25, density=True, alpha=0.4, label=\"Histogram of sample means\")\n",
    "xmin, xmax = plt.xlim()\n",
    "x = np.linspace(xmin, xmax, 100)\n",
    "p = stats.norm.pdf(x, population_mean, standard_error)\n",
    "plt.plot(x, p, 'k', linewidth=2, label=\"Normal curve from CLT\")\n",
    "plt.axvline(x=population_mean, color='m', linestyle='solid', label=\"Population mean\")\n",
    "plt.axvline(x=sample_mean, color='r', linestyle='--', label=\"First sample mean\")\n",
    "plt.axvline(x=mean_sample_means, color='b', linestyle=':', label=\"Mean of sample means\")\n",
    "plt.title(\"Sampling Distribution of the Sample Mean\")\n",
    "plt.xlabel(\"Sample Mean\")\n",
    "plt.ylabel(\"Density\")\n",
    "plt.legend(bbox_to_anchor=(1.04,1))\n",
    "plt.show()"
   ]
  },
  {
   "cell_type": "markdown",
   "metadata": {},
   "source": [
    "### **Observations**\n",
    "From the sampling distribution, I observed the following insights:\n",
    "\n",
    "- As the number of sampling means increased, the distribution of sample means approached a normal distribution, which aligns with the central limit theorem.\n",
    "- The sample mean from the first random sample (red dashed line) is off-center, demonstrating sampling variability. This mean would differ if random_state had a different value, highlighting the impact of random sampling.\n",
    "- The population mean (green solid line) and the mean of the sample means from 10,000 random samples (blue dotted line) essentially coincide, confirming the central limit theorem, which states that the sampling distribution of the mean will converge to the population mean as sample size increases."
   ]
  },
  {
   "cell_type": "markdown",
   "metadata": {},
   "source": [
    "### **Key Takeaways**  \n",
    "\n",
    "- **Python’s `random.sample()` function** enables random sampling, helping draw inferences about the population from a sample.  \n",
    "- **The Central Limit Theorem (CLT) ensures that the distribution of sample means approximates a normal distribution** when the sample size is sufficiently large.  \n",
    "- **The sample mean converges to the true population mean** as more samples are taken, but individual sample means may vary due to sampling variability.  \n",
    "- **The first sample mean differed from the population mean**, highlighting how random selection can lead to deviations.  \n",
    "\n",
    "---\n",
    "\n",
    "### **Findings and Insights**  \n",
    "\n",
    "- The **mean AQI of the sample was lower than the population mean**, suggesting a meaningful deviation rather than random variation.  \n",
    "- If the **difference between the sample mean and population mean exceeds 2–3 standard errors**, it is considered statistically significant.  \n",
    "- Factors such as **pollution sources, geography, and environmental policies** may explain differences in AQI between regions, rather than just random sampling variation.  \n",
    "- The **first sample mean was notably below 100**, indicating that the sampled regions may generally have good air quality.  \n",
    "- Since the **difference between the sample mean and population mean was statistically significant**, it suggests that the sample represents a distinct subset rather than just a random fluctuation.  \n",
    "\n",
    "---\n",
    "\n",
    "### **Communicating to Stakeholders**  \n",
    "\n",
    "- **Carbon monoxide (CO) levels are generally within acceptable limits**, based on the sample.  \n",
    "- However, **some regions may still experience unhealthy CO levels**, requiring targeted interventions.  \n",
    "- **Funding should be allocated for further investigation** to identify areas with suboptimal air quality and implement appropriate mitigation strategies.  \n",
    "- **Further research can help pinpoint contributing factors**, such as industrial emissions, traffic density, or geographic influences.  \n",
    "\n",
    "This analysis underscores the importance of **statistical inference in environmental policy decisions**, helping guide resource allocation and regulatory actions."
   ]
  },
  {
   "cell_type": "markdown",
   "metadata": {},
   "source": [
    "# Exploring Confidence Intervals: Understanding Variability and Estimation"
   ]
  },
  {
   "cell_type": "markdown",
   "metadata": {},
   "source": [
    "### **Introduction**\n",
    "\n",
    "In this section, my task is to analyze which of these states are most likely to be impacted if the proposed federal policy is enacted. Building on the previous scenario, I am collaborating with the Strategy division of Ripple Renewable Energy (RRE) to analyze which states are most likely to be impacted if the proposed federal policy is enacted. RRE operates as part of the United States Environmental Protection Agency (EPA). I have recently started a new role as a data analyst in the Strategy division of RRE. **RRE operates in the following U.S. states: `California`, `Florida`, `Michigan`, `Ohio`, `Pennsylvania`, and `Texas`.**\n",
    "\n",
    "The Air Quality Index (AQI) is the Environmental Protection Agency's index for reporting air quality. A value close to 0 signals little to no public health concern, while higher values are associated with increased risk to public health. The United States is considering a new federal policy that would create a subsidy for renewable energy in states observing an average AQI of 10 or above."
   ]
  },
  {
   "cell_type": "markdown",
   "metadata": {},
   "source": [
    "My manager has requested that I conduct the following analysis:  \n",
    "\n",
    "1. Summarize the mean AQI for the states where RRE operates.  \n",
    "2. Create a boxplot visualization of AQI for these states using `seaborn`.  \n",
    "3. Evaluate which state(s) are most likely to be affected by the proposed policy based on the data and my boxplot visualization.  \n",
    "4. Construct a confidence interval for the RRE state with the highest mean AQI."
   ]
  },
  {
   "cell_type": "markdown",
   "metadata": {},
   "source": [
    "## **Data Exploration**  \n",
    "### **Understanding the Dataset**  "
   ]
  },
  {
   "cell_type": "code",
   "execution_count": 233,
   "metadata": {},
   "outputs": [
    {
     "data": {
      "text/html": [
       "<div>\n",
       "<style scoped>\n",
       "    .dataframe tbody tr th:only-of-type {\n",
       "        vertical-align: middle;\n",
       "    }\n",
       "\n",
       "    .dataframe tbody tr th {\n",
       "        vertical-align: top;\n",
       "    }\n",
       "\n",
       "    .dataframe thead th {\n",
       "        text-align: right;\n",
       "    }\n",
       "</style>\n",
       "<table border=\"1\" class=\"dataframe\">\n",
       "  <thead>\n",
       "    <tr style=\"text-align: right;\">\n",
       "      <th></th>\n",
       "      <th>date_local</th>\n",
       "      <th>state_name</th>\n",
       "      <th>county_name</th>\n",
       "      <th>city_name</th>\n",
       "      <th>local_site_name</th>\n",
       "      <th>parameter_name</th>\n",
       "      <th>units_of_measure</th>\n",
       "      <th>arithmetic_mean</th>\n",
       "      <th>aqi</th>\n",
       "    </tr>\n",
       "  </thead>\n",
       "  <tbody>\n",
       "    <tr>\n",
       "      <th>0</th>\n",
       "      <td>2018-01-01</td>\n",
       "      <td>Arizona</td>\n",
       "      <td>Maricopa</td>\n",
       "      <td>Buckeye</td>\n",
       "      <td>BUCKEYE</td>\n",
       "      <td>Carbon monoxide</td>\n",
       "      <td>Parts per million</td>\n",
       "      <td>0.473684</td>\n",
       "      <td>7</td>\n",
       "    </tr>\n",
       "    <tr>\n",
       "      <th>1</th>\n",
       "      <td>2018-01-01</td>\n",
       "      <td>Ohio</td>\n",
       "      <td>Belmont</td>\n",
       "      <td>Shadyside</td>\n",
       "      <td>Shadyside</td>\n",
       "      <td>Carbon monoxide</td>\n",
       "      <td>Parts per million</td>\n",
       "      <td>0.263158</td>\n",
       "      <td>5</td>\n",
       "    </tr>\n",
       "    <tr>\n",
       "      <th>2</th>\n",
       "      <td>2018-01-01</td>\n",
       "      <td>Wyoming</td>\n",
       "      <td>Teton</td>\n",
       "      <td>Not in a city</td>\n",
       "      <td>Yellowstone National Park - Old Faithful Snow ...</td>\n",
       "      <td>Carbon monoxide</td>\n",
       "      <td>Parts per million</td>\n",
       "      <td>0.111111</td>\n",
       "      <td>2</td>\n",
       "    </tr>\n",
       "    <tr>\n",
       "      <th>3</th>\n",
       "      <td>2018-01-01</td>\n",
       "      <td>Pennsylvania</td>\n",
       "      <td>Philadelphia</td>\n",
       "      <td>Philadelphia</td>\n",
       "      <td>North East Waste (NEW)</td>\n",
       "      <td>Carbon monoxide</td>\n",
       "      <td>Parts per million</td>\n",
       "      <td>0.300000</td>\n",
       "      <td>3</td>\n",
       "    </tr>\n",
       "    <tr>\n",
       "      <th>4</th>\n",
       "      <td>2018-01-01</td>\n",
       "      <td>Iowa</td>\n",
       "      <td>Polk</td>\n",
       "      <td>Des Moines</td>\n",
       "      <td>CARPENTER</td>\n",
       "      <td>Carbon monoxide</td>\n",
       "      <td>Parts per million</td>\n",
       "      <td>0.215789</td>\n",
       "      <td>3</td>\n",
       "    </tr>\n",
       "    <tr>\n",
       "      <th>5</th>\n",
       "      <td>2018-01-01</td>\n",
       "      <td>Hawaii</td>\n",
       "      <td>Honolulu</td>\n",
       "      <td>Not in a city</td>\n",
       "      <td>Kapolei</td>\n",
       "      <td>Carbon monoxide</td>\n",
       "      <td>Parts per million</td>\n",
       "      <td>0.994737</td>\n",
       "      <td>14</td>\n",
       "    </tr>\n",
       "    <tr>\n",
       "      <th>6</th>\n",
       "      <td>2018-01-01</td>\n",
       "      <td>Hawaii</td>\n",
       "      <td>Honolulu</td>\n",
       "      <td>Not in a city</td>\n",
       "      <td>Kapolei</td>\n",
       "      <td>Carbon monoxide</td>\n",
       "      <td>Parts per million</td>\n",
       "      <td>0.200000</td>\n",
       "      <td>2</td>\n",
       "    </tr>\n",
       "    <tr>\n",
       "      <th>7</th>\n",
       "      <td>2018-01-01</td>\n",
       "      <td>Pennsylvania</td>\n",
       "      <td>Erie</td>\n",
       "      <td>Erie</td>\n",
       "      <td>NaN</td>\n",
       "      <td>Carbon monoxide</td>\n",
       "      <td>Parts per million</td>\n",
       "      <td>0.200000</td>\n",
       "      <td>2</td>\n",
       "    </tr>\n",
       "    <tr>\n",
       "      <th>8</th>\n",
       "      <td>2018-01-01</td>\n",
       "      <td>Hawaii</td>\n",
       "      <td>Honolulu</td>\n",
       "      <td>Honolulu</td>\n",
       "      <td>Honolulu</td>\n",
       "      <td>Carbon monoxide</td>\n",
       "      <td>Parts per million</td>\n",
       "      <td>0.400000</td>\n",
       "      <td>5</td>\n",
       "    </tr>\n",
       "    <tr>\n",
       "      <th>9</th>\n",
       "      <td>2018-01-01</td>\n",
       "      <td>Colorado</td>\n",
       "      <td>Larimer</td>\n",
       "      <td>Fort Collins</td>\n",
       "      <td>Fort Collins - CSU - S. Mason</td>\n",
       "      <td>Carbon monoxide</td>\n",
       "      <td>Parts per million</td>\n",
       "      <td>0.300000</td>\n",
       "      <td>6</td>\n",
       "    </tr>\n",
       "  </tbody>\n",
       "</table>\n",
       "</div>"
      ],
      "text/plain": [
       "   date_local    state_name   county_name      city_name  \\\n",
       "0  2018-01-01       Arizona      Maricopa        Buckeye   \n",
       "1  2018-01-01          Ohio       Belmont      Shadyside   \n",
       "2  2018-01-01       Wyoming         Teton  Not in a city   \n",
       "3  2018-01-01  Pennsylvania  Philadelphia   Philadelphia   \n",
       "4  2018-01-01          Iowa          Polk     Des Moines   \n",
       "5  2018-01-01        Hawaii      Honolulu  Not in a city   \n",
       "6  2018-01-01        Hawaii      Honolulu  Not in a city   \n",
       "7  2018-01-01  Pennsylvania          Erie           Erie   \n",
       "8  2018-01-01        Hawaii      Honolulu       Honolulu   \n",
       "9  2018-01-01      Colorado       Larimer   Fort Collins   \n",
       "\n",
       "                                     local_site_name   parameter_name  \\\n",
       "0                                            BUCKEYE  Carbon monoxide   \n",
       "1                                          Shadyside  Carbon monoxide   \n",
       "2  Yellowstone National Park - Old Faithful Snow ...  Carbon monoxide   \n",
       "3                             North East Waste (NEW)  Carbon monoxide   \n",
       "4                                          CARPENTER  Carbon monoxide   \n",
       "5                                            Kapolei  Carbon monoxide   \n",
       "6                                            Kapolei  Carbon monoxide   \n",
       "7                                                NaN  Carbon monoxide   \n",
       "8                                           Honolulu  Carbon monoxide   \n",
       "9                      Fort Collins - CSU - S. Mason  Carbon monoxide   \n",
       "\n",
       "    units_of_measure  arithmetic_mean  aqi  \n",
       "0  Parts per million         0.473684    7  \n",
       "1  Parts per million         0.263158    5  \n",
       "2  Parts per million         0.111111    2  \n",
       "3  Parts per million         0.300000    3  \n",
       "4  Parts per million         0.215789    3  \n",
       "5  Parts per million         0.994737   14  \n",
       "6  Parts per million         0.200000    2  \n",
       "7  Parts per million         0.200000    2  \n",
       "8  Parts per million         0.400000    5  \n",
       "9  Parts per million         0.300000    6  "
      ]
     },
     "execution_count": 233,
     "metadata": {},
     "output_type": "execute_result"
    }
   ],
   "source": [
    "epa_data.head(10)\n"
   ]
  },
  {
   "cell_type": "code",
   "execution_count": 234,
   "metadata": {},
   "outputs": [],
   "source": [
    "epa_data['date_local'] = pd.to_datetime(epa_data['date_local'])\n"
   ]
  },
  {
   "cell_type": "code",
   "execution_count": 235,
   "metadata": {},
   "outputs": [
    {
     "data": {
      "text/html": [
       "<div>\n",
       "<style scoped>\n",
       "    .dataframe tbody tr th:only-of-type {\n",
       "        vertical-align: middle;\n",
       "    }\n",
       "\n",
       "    .dataframe tbody tr th {\n",
       "        vertical-align: top;\n",
       "    }\n",
       "\n",
       "    .dataframe thead th {\n",
       "        text-align: right;\n",
       "    }\n",
       "</style>\n",
       "<table border=\"1\" class=\"dataframe\">\n",
       "  <thead>\n",
       "    <tr style=\"text-align: right;\">\n",
       "      <th></th>\n",
       "      <th>date_local</th>\n",
       "      <th>state_name</th>\n",
       "      <th>county_name</th>\n",
       "      <th>city_name</th>\n",
       "      <th>local_site_name</th>\n",
       "      <th>parameter_name</th>\n",
       "      <th>units_of_measure</th>\n",
       "      <th>arithmetic_mean</th>\n",
       "      <th>aqi</th>\n",
       "    </tr>\n",
       "  </thead>\n",
       "  <tbody>\n",
       "    <tr>\n",
       "      <th>count</th>\n",
       "      <td>260</td>\n",
       "      <td>260</td>\n",
       "      <td>260</td>\n",
       "      <td>260</td>\n",
       "      <td>257</td>\n",
       "      <td>260</td>\n",
       "      <td>260</td>\n",
       "      <td>260.000000</td>\n",
       "      <td>260.000000</td>\n",
       "    </tr>\n",
       "    <tr>\n",
       "      <th>unique</th>\n",
       "      <td>NaN</td>\n",
       "      <td>52</td>\n",
       "      <td>149</td>\n",
       "      <td>190</td>\n",
       "      <td>253</td>\n",
       "      <td>1</td>\n",
       "      <td>1</td>\n",
       "      <td>NaN</td>\n",
       "      <td>NaN</td>\n",
       "    </tr>\n",
       "    <tr>\n",
       "      <th>top</th>\n",
       "      <td>NaN</td>\n",
       "      <td>California</td>\n",
       "      <td>Los Angeles</td>\n",
       "      <td>Not in a city</td>\n",
       "      <td>Kapolei</td>\n",
       "      <td>Carbon monoxide</td>\n",
       "      <td>Parts per million</td>\n",
       "      <td>NaN</td>\n",
       "      <td>NaN</td>\n",
       "    </tr>\n",
       "    <tr>\n",
       "      <th>freq</th>\n",
       "      <td>NaN</td>\n",
       "      <td>66</td>\n",
       "      <td>14</td>\n",
       "      <td>21</td>\n",
       "      <td>2</td>\n",
       "      <td>260</td>\n",
       "      <td>260</td>\n",
       "      <td>NaN</td>\n",
       "      <td>NaN</td>\n",
       "    </tr>\n",
       "    <tr>\n",
       "      <th>mean</th>\n",
       "      <td>2018-01-01 00:00:00</td>\n",
       "      <td>NaN</td>\n",
       "      <td>NaN</td>\n",
       "      <td>NaN</td>\n",
       "      <td>NaN</td>\n",
       "      <td>NaN</td>\n",
       "      <td>NaN</td>\n",
       "      <td>0.403169</td>\n",
       "      <td>6.757692</td>\n",
       "    </tr>\n",
       "    <tr>\n",
       "      <th>min</th>\n",
       "      <td>2018-01-01 00:00:00</td>\n",
       "      <td>NaN</td>\n",
       "      <td>NaN</td>\n",
       "      <td>NaN</td>\n",
       "      <td>NaN</td>\n",
       "      <td>NaN</td>\n",
       "      <td>NaN</td>\n",
       "      <td>0.000000</td>\n",
       "      <td>0.000000</td>\n",
       "    </tr>\n",
       "    <tr>\n",
       "      <th>25%</th>\n",
       "      <td>2018-01-01 00:00:00</td>\n",
       "      <td>NaN</td>\n",
       "      <td>NaN</td>\n",
       "      <td>NaN</td>\n",
       "      <td>NaN</td>\n",
       "      <td>NaN</td>\n",
       "      <td>NaN</td>\n",
       "      <td>0.200000</td>\n",
       "      <td>2.000000</td>\n",
       "    </tr>\n",
       "    <tr>\n",
       "      <th>50%</th>\n",
       "      <td>2018-01-01 00:00:00</td>\n",
       "      <td>NaN</td>\n",
       "      <td>NaN</td>\n",
       "      <td>NaN</td>\n",
       "      <td>NaN</td>\n",
       "      <td>NaN</td>\n",
       "      <td>NaN</td>\n",
       "      <td>0.276315</td>\n",
       "      <td>5.000000</td>\n",
       "    </tr>\n",
       "    <tr>\n",
       "      <th>75%</th>\n",
       "      <td>2018-01-01 00:00:00</td>\n",
       "      <td>NaN</td>\n",
       "      <td>NaN</td>\n",
       "      <td>NaN</td>\n",
       "      <td>NaN</td>\n",
       "      <td>NaN</td>\n",
       "      <td>NaN</td>\n",
       "      <td>0.516009</td>\n",
       "      <td>9.000000</td>\n",
       "    </tr>\n",
       "    <tr>\n",
       "      <th>max</th>\n",
       "      <td>2018-01-01 00:00:00</td>\n",
       "      <td>NaN</td>\n",
       "      <td>NaN</td>\n",
       "      <td>NaN</td>\n",
       "      <td>NaN</td>\n",
       "      <td>NaN</td>\n",
       "      <td>NaN</td>\n",
       "      <td>1.921053</td>\n",
       "      <td>50.000000</td>\n",
       "    </tr>\n",
       "    <tr>\n",
       "      <th>std</th>\n",
       "      <td>NaN</td>\n",
       "      <td>NaN</td>\n",
       "      <td>NaN</td>\n",
       "      <td>NaN</td>\n",
       "      <td>NaN</td>\n",
       "      <td>NaN</td>\n",
       "      <td>NaN</td>\n",
       "      <td>0.317902</td>\n",
       "      <td>7.061707</td>\n",
       "    </tr>\n",
       "  </tbody>\n",
       "</table>\n",
       "</div>"
      ],
      "text/plain": [
       "                 date_local  state_name  county_name      city_name  \\\n",
       "count                   260         260          260            260   \n",
       "unique                  NaN          52          149            190   \n",
       "top                     NaN  California  Los Angeles  Not in a city   \n",
       "freq                    NaN          66           14             21   \n",
       "mean    2018-01-01 00:00:00         NaN          NaN            NaN   \n",
       "min     2018-01-01 00:00:00         NaN          NaN            NaN   \n",
       "25%     2018-01-01 00:00:00         NaN          NaN            NaN   \n",
       "50%     2018-01-01 00:00:00         NaN          NaN            NaN   \n",
       "75%     2018-01-01 00:00:00         NaN          NaN            NaN   \n",
       "max     2018-01-01 00:00:00         NaN          NaN            NaN   \n",
       "std                     NaN         NaN          NaN            NaN   \n",
       "\n",
       "       local_site_name   parameter_name   units_of_measure  arithmetic_mean  \\\n",
       "count              257              260                260       260.000000   \n",
       "unique             253                1                  1              NaN   \n",
       "top            Kapolei  Carbon monoxide  Parts per million              NaN   \n",
       "freq                 2              260                260              NaN   \n",
       "mean               NaN              NaN                NaN         0.403169   \n",
       "min                NaN              NaN                NaN         0.000000   \n",
       "25%                NaN              NaN                NaN         0.200000   \n",
       "50%                NaN              NaN                NaN         0.276315   \n",
       "75%                NaN              NaN                NaN         0.516009   \n",
       "max                NaN              NaN                NaN         1.921053   \n",
       "std                NaN              NaN                NaN         0.317902   \n",
       "\n",
       "               aqi  \n",
       "count   260.000000  \n",
       "unique         NaN  \n",
       "top            NaN  \n",
       "freq           NaN  \n",
       "mean      6.757692  \n",
       "min       0.000000  \n",
       "25%       2.000000  \n",
       "50%       5.000000  \n",
       "75%       9.000000  \n",
       "max      50.000000  \n",
       "std       7.061707  "
      ]
     },
     "execution_count": 235,
     "metadata": {},
     "output_type": "execute_result"
    }
   ],
   "source": [
    "epa_data.describe(include='all')"
   ]
  },
  {
   "cell_type": "markdown",
   "metadata": {},
   "source": [
    "### **Key Insights**  \n",
    "- **Time Range**: The data covers a single day, **January 1st, 2018**.  \n",
    "- **AQI Range**: The minimum AQI value is **0**, while the maximum is **50**.  \n",
    "- **State Representation**: The number of AQI reporting sites varies by state. For example, California has **66** sites, whereas states like Delaware and Alabama have only **one** site each.  "
   ]
  },
  {
   "cell_type": "markdown",
   "metadata": {},
   "source": [
    "## **Statistical Analysis**  \n",
    "### **Summarizing Mean AQI for RRE States**  \n",
    "Filtering the dataset for RRE states and calculating mean AQI:  "
   ]
  },
  {
   "cell_type": "code",
   "execution_count": 236,
   "metadata": {},
   "outputs": [
    {
     "data": {
      "text/html": [
       "<div>\n",
       "<style scoped>\n",
       "    .dataframe tbody tr th:only-of-type {\n",
       "        vertical-align: middle;\n",
       "    }\n",
       "\n",
       "    .dataframe tbody tr th {\n",
       "        vertical-align: top;\n",
       "    }\n",
       "\n",
       "    .dataframe thead th {\n",
       "        text-align: right;\n",
       "    }\n",
       "</style>\n",
       "<table border=\"1\" class=\"dataframe\">\n",
       "  <thead>\n",
       "    <tr style=\"text-align: right;\">\n",
       "      <th></th>\n",
       "      <th>aqi</th>\n",
       "      <th>state_name</th>\n",
       "    </tr>\n",
       "    <tr>\n",
       "      <th>state_name</th>\n",
       "      <th></th>\n",
       "      <th></th>\n",
       "    </tr>\n",
       "  </thead>\n",
       "  <tbody>\n",
       "    <tr>\n",
       "      <th>California</th>\n",
       "      <td>12.121212</td>\n",
       "      <td>66</td>\n",
       "    </tr>\n",
       "    <tr>\n",
       "      <th>Florida</th>\n",
       "      <td>5.500000</td>\n",
       "      <td>12</td>\n",
       "    </tr>\n",
       "    <tr>\n",
       "      <th>Michigan</th>\n",
       "      <td>8.111111</td>\n",
       "      <td>9</td>\n",
       "    </tr>\n",
       "    <tr>\n",
       "      <th>Ohio</th>\n",
       "      <td>3.333333</td>\n",
       "      <td>12</td>\n",
       "    </tr>\n",
       "    <tr>\n",
       "      <th>Pennsylvania</th>\n",
       "      <td>2.900000</td>\n",
       "      <td>10</td>\n",
       "    </tr>\n",
       "    <tr>\n",
       "      <th>Texas</th>\n",
       "      <td>2.700000</td>\n",
       "      <td>10</td>\n",
       "    </tr>\n",
       "  </tbody>\n",
       "</table>\n",
       "</div>"
      ],
      "text/plain": [
       "                    aqi  state_name\n",
       "state_name                         \n",
       "California    12.121212          66\n",
       "Florida        5.500000          12\n",
       "Michigan       8.111111           9\n",
       "Ohio           3.333333          12\n",
       "Pennsylvania   2.900000          10\n",
       "Texas          2.700000          10"
      ]
     },
     "execution_count": 236,
     "metadata": {},
     "output_type": "execute_result"
    }
   ],
   "source": [
    "rre_states = ['California', 'Florida', 'Michigan', 'Ohio', 'Pennsylvania', 'Texas']\n",
    "\n",
    "epa_rre = epa_data[epa_data['state_name'].isin(rre_states)]\n",
    "\n",
    "epa_rre.groupby(['state_name']).agg({'aqi': 'mean', 'state_name': 'count'})"
   ]
  },
  {
   "cell_type": "markdown",
   "metadata": {},
   "source": [
    "### **Key Findings**  \n",
    "- California has the highest mean AQI.  \n",
    "- Michigan also shows AQI values near the threshold but remains below 10 on average.  \n",
    "\n",
    "### **Visualizing AQI Distribution Using a Boxplot**  "
   ]
  },
  {
   "cell_type": "code",
   "execution_count": 237,
   "metadata": {},
   "outputs": [
    {
     "data": {
      "image/png": "[encoded data removed]",
      "text/plain": [
       "<Figure size 1000x600 with 1 Axes>"
      ]
     },
     "metadata": {},
     "output_type": "display_data"
    }
   ],
   "source": [
    "plt.figure(figsize=(10,6))\n",
    "sns.boxplot(x=epa_rre['state_name'], y=epa_rre['aqi'])\n",
    "plt.xlabel('State')\n",
    "plt.ylabel('AQI')\n",
    "plt.title('AQI Distribution Across RRE States')\n",
    "plt.xticks(rotation=45)\n",
    "plt.show()"
   ]
  },
  {
   "cell_type": "markdown",
   "metadata": {},
   "source": [
    "### **Interpretation**  \n",
    "- **California**: The mean AQI and a significant portion of the boxplot range are above 10, suggesting that California will likely be most affected by the policy.\n",
    "- **Michigan**: Although the mean AQI is below 10, the boxplot shows that a portion of the data still ranges above 10, indicating that Michigan could also be impacted by the policy."
   ]
  },
  {
   "cell_type": "markdown",
   "metadata": {},
   "source": [
    "## **Constructing a Confidence Interval for California**  \n",
    "Since **California** has the highest mean AQI, I will calculate a **95% confidence interval** for its AQI.  \n",
    "\n",
    "4-step process in constructing a confidence interval:\n",
    "\n",
    "1.   Identify a sample statistic.\n",
    "2.   Choose a confidence level.\n",
    "3.   Find the margin of error. \n",
    "4.   Calculate the interval."
   ]
  },
  {
   "cell_type": "markdown",
   "metadata": {},
   "source": [
    "### **Calculating Sample Mean**  "
   ]
  },
  {
   "cell_type": "code",
   "execution_count": 238,
   "metadata": {},
   "outputs": [
    {
     "data": {
      "text/plain": [
       "np.float64(12.121212121212121)"
      ]
     },
     "execution_count": 238,
     "metadata": {},
     "output_type": "execute_result"
    }
   ],
   "source": [
    "epa_ca = epa_data[epa_data['state_name'] == 'California']\n",
    "sample_mean = epa_ca['aqi'].mean()\n",
    "sample_mean"
   ]
  },
  {
   "cell_type": "markdown",
   "metadata": {},
   "source": [
    "### **Defining Confidence Level**  \n"
   ]
  },
  {
   "cell_type": "markdown",
   "metadata": {},
   "source": [
    "I need to choose a confidence level for my analysis. The most common choice is 95%, but I can opt for 90% if I want a lower confidence level or 99% if I want to increase my confidence in the results."
   ]
  },
  {
   "cell_type": "code",
   "execution_count": 239,
   "metadata": {},
   "outputs": [],
   "source": [
    "confidence_level = 0.95"
   ]
  },
  {
   "cell_type": "markdown",
   "metadata": {},
   "source": [
    "### **Computing Margin of Error**  \n",
    "\n",
    "The margin of error is calculated using:  \n",
    "**Margin of Error = z * Standard Error**  \n",
    "\n",
    "To compute the margin of error, follow these steps:  \n",
    "\n",
    "1. Determine the z-value based on the chosen confidence level.  \n",
    "2. Find the corresponding z-score for common confidence levels.  \n",
    "3. Calculate the Standard Error estimate using:\n",
    "\n",
    "$$ SE = \\frac{\\sigma}{\\sqrt{n}} $$\n",
    "\n",
    "\n",
    "#### **Z-Scores for Common Confidence Levels**  \n",
    "\n",
    "| Confidence Level | Z Score |\n",
    "| --- | --- |\n",
    "| 90% | 1.65 |\n",
    "| 95% | 1.96 |\n",
    "| 99% | 2.58 |\n"
   ]
  },
  {
   "cell_type": "code",
   "execution_count": 240,
   "metadata": {},
   "outputs": [
    {
     "name": "stdout",
     "output_type": "stream",
     "text": [
      "standard error:\n",
      "0.8987209641127412\n",
      "margin of error:\n",
      "1.7614930896609726\n"
     ]
    }
   ],
   "source": [
    "z_value = 1.96\n",
    "\n",
    "standard_error=epa_ca['aqi'].std()/np.sqrt(epa_ca.shape[0])\n",
    "print(\"standard error:\")\n",
    "print(standard_error)\n",
    "\n",
    "margin_of_error=z_value*standard_error\n",
    "print(\"margin of error:\")\n",
    "print(margin_of_error)"
   ]
  },
  {
   "cell_type": "markdown",
   "metadata": {},
   "source": [
    "### **Computing Confidence Interval** \n",
    "\n",
    "I will calculate both the lower and upper limits around the sample mean to construct the confidence interval.\n",
    "\n",
    "$$\n",
    "\\text{Confidence Interval} = \\left[ \\text{Sample Mean} - \\text{Margin of Error}, \\text{Sample Mean} + \\text{Margin of Error} \\right]\n",
    "$$\n"
   ]
  },
  {
   "cell_type": "code",
   "execution_count": 241,
   "metadata": {},
   "outputs": [
    {
     "data": {
      "text/plain": [
       "(np.float64(10.359719031551148), np.float64(13.882705210873095))"
      ]
     },
     "execution_count": 241,
     "metadata": {},
     "output_type": "execute_result"
    }
   ],
   "source": [
    "lower_CI_limit = sample_mean - margin_of_error\n",
    "upper_CI_limit = sample_mean + margin_of_error\n",
    "confidence_interval = (lower_CI_limit, upper_CI_limit)\n",
    "confidence_interval"
   ]
  },
  {
   "cell_type": "markdown",
   "metadata": {},
   "source": [
    "Alternatively, using `scipy.stats`:  \n"
   ]
  },
  {
   "cell_type": "markdown",
   "metadata": {},
   "source": [
    "`scipy` presents a simpler solution to developing a confidence interval. \n",
    "\n",
    "I will input my chosen `confidence_level`, `sample_mean`, and `standard_error` into `stats.norm.interval()` to compute the confidence interval."
   ]
  },
  {
   "cell_type": "code",
   "execution_count": 242,
   "metadata": {},
   "outputs": [
    {
     "data": {
      "text/plain": [
       "(np.float64(10.359751399400034), np.float64(13.882672843024208))"
      ]
     },
     "execution_count": 242,
     "metadata": {},
     "output_type": "execute_result"
    }
   ],
   "source": [
    "stats.norm.interval(confidence=confidence_level, loc=sample_mean, scale=standard_error)\n"
   ]
  },
  {
   "cell_type": "markdown",
   "metadata": {},
   "source": [
    "### **Confidence Interval Results**  \n",
    "- **95% Confidence Interval for California’s Mean AQI**: **[10.36, 13.88]**  \n",
    "- Since the **lower bound (10.36) exceeds the threshold of 10**, California is **highly likely** to be affected by the proposed policy. "
   ]
  },
  {
   "cell_type": "markdown",
   "metadata": {},
   "source": [
    "### **Key Takeaways**  \n",
    "\n",
    "- **California and Michigan had the highest mean AQI values**, with California being the most likely state to exceed the threshold of **10**.  \n",
    "- **California is expected to be the most affected** by the proposed policy due to its **high sample mean AQI**.  \n",
    "- **Confidence intervals help estimate the population mean AQI** with a specified level of certainty.  \n",
    "- I computed the confidence interval using **`scipy.stats.norm.interval()`**, which requires:  \n",
    "  - **`alpha`**: Confidence level  \n",
    "  - **`loc`**: Sample mean  \n",
    "  - **`scale`**: Standard error  \n",
    "- This analysis involved working with key Python libraries such as **scipy, pandas, and numpy**.  \n",
    "\n",
    "The boxplot visualization confirmed that **California and Michigan had the highest mean AQI values**. Based on the confidence interval, **California is the most likely state to be impacted by the policy change**. The **95% confidence interval** for California's AQI was constructed to quantify this impact.  \n",
    "\n",
    "---\n",
    "\n",
    "### **Presentation of Findings**  \n",
    "\n",
    "To effectively communicate these findings, I would:  \n",
    "\n",
    "- **Walk through the analytical process** using the notebook to explain the methodology behind constructing confidence intervals.  \n",
    "- **Interpret the 95% confidence interval**:  \n",
    "  - The computed confidence interval was **[10.36, 13.88]**.  \n",
    "  - Since the **lower bound (10.36) exceeds the threshold of 10**, this strongly suggests that **California's population mean AQI is above the threshold**.  \n",
    "- **Demonstrate how confidence levels affect the interval**:  \n",
    "  - If the confidence level were increased to **99%**, the interval would widen to **[9.80, 14.43]**, providing greater certainty at the cost of precision.  \n",
    "\n",
    "It is important to clarify that confidence intervals do **not** indicate a **95% probability** that the population mean falls within the interval. Instead, if the sampling process were repeated many times, **95% of those confidence intervals would contain the true mean AQI**.\n",
    "\n",
    "---\n",
    "\n",
    "### **Summary for Stakeholders**  \n",
    "\n",
    "To external stakeholders, I would highlight the following:  \n",
    "\n",
    "- **California's AQI surpasses the threshold of 10**:  \n",
    "  - The **mean AQI for California is significantly above the threshold**, suggesting potential regulatory concerns.  \n",
    "- **Statistical significance**:  \n",
    "  - Confidence intervals provide **statistical evidence** that California is likely to be affected by the policy.  \n",
    "- **95% Confidence Interval for California**:  \n",
    "  - The **95% confidence interval** for the **population mean AQI** in California is **[10.36, 13.88]**.  \n",
    "  - Because the **entire interval lies above 10**, **California is highly likely to require policy intervention**.  \n",
    "- **Potential limitations**:  \n",
    "  - This analysis is based on a **single day's data**, which may not fully reflect long-term trends.  \n",
    "  - The dataset has an **unequal representation of states**, with California having **more reporting sites than others**, which could introduce bias.  \n",
    "\n",
    "These findings suggest that **California is the most affected state under the proposed policy** and **should be a priority for regulatory action**.\n",
    "\n"
   ]
  },
  {
   "cell_type": "markdown",
   "metadata": {},
   "source": [
    "# Exploring Hypothesis Testing: Statistical Methods for Data-Driven Insights"
   ]
  },
  {
   "cell_type": "markdown",
   "metadata": {},
   "source": [
    "### **Introduction**\n",
    "\n",
    "In this section, I am collaborating with *Repair Our Air* (ROA), an environmental think tank group within the United States Environmental Protection Agency (EPA). ROA is developing policy recommendations to improve air quality in the United States and is leveraging the EPA’s Air Quality Index (AQI) data to guide its decision-making.  \n",
    "\n",
    "An AQI value close to 0 indicates \"little to no\" public health concern, while higher values are linked to increased health risks. To support ROA’s strategic priorities, I am conducting statistical analyses on AQI data to provide insights that will help them target the most pressing air quality challenges."
   ]
  },
  {
   "cell_type": "markdown",
   "metadata": {},
   "source": [
    "ROA is considering several strategic decisions and has tasked me with conducting hypothesis tests and visualizations to support their decision-making. Using a 5% significance level, I will apply statistical analysis to provide data-driven recommendations. For two-sample t-tests, I will use Welch’s t-test (`equal_var=False` in `scipy.stats.ttest_ind()`) to account for the possibly unequal variances between the two groups in the comparison.\n",
    "\n",
    "The key analyses include:  \n",
    "\n",
    "1. **Metropolitan vs. Statewide AQI in California**  \n",
    "   - ROA is considering a metropolitan-focused approach and wants to determine whether the mean AQI in Los Angeles County is statistically different from the rest of California. I will conduct a hypothesis test and create a visualization to compare these two groups.  \n",
    "\n",
    "2. **Comparing AQI in New York and Ohio**  \n",
    "   - With limited resources, ROA must decide between New York and Ohio for its next regional office. To inform this decision, I will test whether New York has a lower AQI than Ohio and visualize the results.  \n",
    "\n",
    "3. **Assessing Michigan’s AQI Against Policy Threshold**  \n",
    "   - A new policy will impact states with a mean AQI of 10 or greater. To determine whether Michigan will be affected, I will perform a hypothesis test comparing Michigan’s mean AQI to this threshold and present the findings visually.  \n",
    "\n",
    "These analyses will help ROA prioritize its strategy for improving air quality across the United States."
   ]
  },
  {
   "cell_type": "markdown",
   "metadata": {},
   "source": [
    "## **Exploring the Data**  \n",
    "\n",
    "Before proceeding with the hypothesis tests, I explored the dataset to understand its structure and verify if it provides sufficient information for analysis.  "
   ]
  },
  {
   "cell_type": "code",
   "execution_count": 243,
   "metadata": {},
   "outputs": [
    {
     "name": "stdout",
     "output_type": "stream",
     "text": [
      "  date_local    state_name   county_name      city_name  \\\n",
      "0 2018-01-01       Arizona      Maricopa        Buckeye   \n",
      "1 2018-01-01          Ohio       Belmont      Shadyside   \n",
      "2 2018-01-01       Wyoming         Teton  Not in a city   \n",
      "3 2018-01-01  Pennsylvania  Philadelphia   Philadelphia   \n",
      "4 2018-01-01          Iowa          Polk     Des Moines   \n",
      "5 2018-01-01        Hawaii      Honolulu  Not in a city   \n",
      "6 2018-01-01        Hawaii      Honolulu  Not in a city   \n",
      "7 2018-01-01  Pennsylvania          Erie           Erie   \n",
      "8 2018-01-01        Hawaii      Honolulu       Honolulu   \n",
      "9 2018-01-01      Colorado       Larimer   Fort Collins   \n",
      "\n",
      "                                     local_site_name   parameter_name  \\\n",
      "0                                            BUCKEYE  Carbon monoxide   \n",
      "1                                          Shadyside  Carbon monoxide   \n",
      "2  Yellowstone National Park - Old Faithful Snow ...  Carbon monoxide   \n",
      "3                             North East Waste (NEW)  Carbon monoxide   \n",
      "4                                          CARPENTER  Carbon monoxide   \n",
      "5                                            Kapolei  Carbon monoxide   \n",
      "6                                            Kapolei  Carbon monoxide   \n",
      "7                                                NaN  Carbon monoxide   \n",
      "8                                           Honolulu  Carbon monoxide   \n",
      "9                      Fort Collins - CSU - S. Mason  Carbon monoxide   \n",
      "\n",
      "    units_of_measure  arithmetic_mean  aqi  \n",
      "0  Parts per million         0.473684    7  \n",
      "1  Parts per million         0.263158    5  \n",
      "2  Parts per million         0.111111    2  \n",
      "3  Parts per million         0.300000    3  \n",
      "4  Parts per million         0.215789    3  \n",
      "5  Parts per million         0.994737   14  \n",
      "6  Parts per million         0.200000    2  \n",
      "7  Parts per million         0.200000    2  \n",
      "8  Parts per million         0.400000    5  \n",
      "9  Parts per million         0.300000    6  \n",
      "                 date_local  state_name  county_name      city_name  \\\n",
      "count                   260         260          260            260   \n",
      "unique                  NaN          52          149            190   \n",
      "top                     NaN  California  Los Angeles  Not in a city   \n",
      "freq                    NaN          66           14             21   \n",
      "mean    2018-01-01 00:00:00         NaN          NaN            NaN   \n",
      "min     2018-01-01 00:00:00         NaN          NaN            NaN   \n",
      "25%     2018-01-01 00:00:00         NaN          NaN            NaN   \n",
      "50%     2018-01-01 00:00:00         NaN          NaN            NaN   \n",
      "75%     2018-01-01 00:00:00         NaN          NaN            NaN   \n",
      "max     2018-01-01 00:00:00         NaN          NaN            NaN   \n",
      "std                     NaN         NaN          NaN            NaN   \n",
      "\n",
      "       local_site_name   parameter_name   units_of_measure  arithmetic_mean  \\\n",
      "count              257              260                260       260.000000   \n",
      "unique             253                1                  1              NaN   \n",
      "top            Kapolei  Carbon monoxide  Parts per million              NaN   \n",
      "freq                 2              260                260              NaN   \n",
      "mean               NaN              NaN                NaN         0.403169   \n",
      "min                NaN              NaN                NaN         0.000000   \n",
      "25%                NaN              NaN                NaN         0.200000   \n",
      "50%                NaN              NaN                NaN         0.276315   \n",
      "75%                NaN              NaN                NaN         0.516009   \n",
      "max                NaN              NaN                NaN         1.921053   \n",
      "std                NaN              NaN                NaN         0.317902   \n",
      "\n",
      "               aqi  \n",
      "count   260.000000  \n",
      "unique         NaN  \n",
      "top            NaN  \n",
      "freq           NaN  \n",
      "mean      6.757692  \n",
      "min       0.000000  \n",
      "25%       2.000000  \n",
      "50%       5.000000  \n",
      "75%       9.000000  \n",
      "max      50.000000  \n",
      "std       7.061707  \n",
      "state_name\n",
      "California              66\n",
      "Arizona                 14\n",
      "Ohio                    12\n",
      "Florida                 12\n",
      "Texas                   10\n",
      "Pennsylvania            10\n",
      "New York                10\n",
      "Colorado                 9\n",
      "Michigan                 9\n",
      "Minnesota                7\n",
      "New Jersey               6\n",
      "Indiana                  5\n",
      "Nevada                   4\n",
      "Maryland                 4\n",
      "Massachusetts            4\n",
      "Oklahoma                 4\n",
      "North Carolina           4\n",
      "Virginia                 4\n",
      "Connecticut              4\n",
      "Wyoming                  3\n",
      "Utah                     3\n",
      "Hawaii                   3\n",
      "Illinois                 3\n",
      "Missouri                 3\n",
      "Iowa                     3\n",
      "Kentucky                 3\n",
      "Vermont                  3\n",
      "Rhode Island             2\n",
      "Alaska                   2\n",
      "Georgia                  2\n",
      "Washington               2\n",
      "Idaho                    2\n",
      "Nebraska                 2\n",
      "Montana                  2\n",
      "Tennessee                2\n",
      "Maine                    2\n",
      "New Mexico               2\n",
      "District Of Columbia     2\n",
      "Oregon                   2\n",
      "New Hampshire            2\n",
      "Kansas                   1\n",
      "Alabama                  1\n",
      "South Dakota             1\n",
      "West Virginia            1\n",
      "Mississippi              1\n",
      "Louisiana                1\n",
      "Delaware                 1\n",
      "North Dakota             1\n",
      "Arkansas                 1\n",
      "Puerto Rico              1\n",
      "South Carolina           1\n",
      "Wisconsin                1\n",
      "Name: count, dtype: int64\n"
     ]
    }
   ],
   "source": [
    "print(epa_data.head(10))\n",
    "print(epa_data.describe(include='all'))\n",
    "print(epa_data['state_name'].value_counts())"
   ]
  },
  {
   "cell_type": "markdown",
   "metadata": {},
   "source": [
    "### **Observations:**  \n",
    "\n",
    "Based on the preceding data exploration, the three research questions can be answered with the available data. Specifically:\n",
    "\n",
    "- For the first hypothesis, I have county-level AQI data, which is sufficient to compare the AQI between Los Angeles County and the rest of California.  \n",
    "- For the second hypothesis, both Ohio and New York have a sufficient number of observations in the dataset, allowing for a robust comparison of their AQI levels.  \n",
    "- The third hypothesis about Michigan’s AQI and its potential impact from the new policy can also be assessed, as Michigan's data is available and contains enough information for the analysis.  \n",
    "\n",
    "Overall, the dataset is well-suited to answer these research questions, given the availability of county-level and state-level data for each hypothesis."
   ]
  },
  {
   "cell_type": "markdown",
   "metadata": {},
   "source": [
    "## **Hypothesis Testing**  \n",
    "\n",
    "For each question, I followed these steps:  \n",
    "1. **Formulated the null and alternative hypotheses**  \n",
    "2. **Set the significance level** at 5%  \n",
    "3. **Determined the appropriate statistical test**  \n",
    "4. **Computed the p-value**  \n",
    "5. **Drew conclusions based on the results**  "
   ]
  },
  {
   "cell_type": "markdown",
   "metadata": {},
   "source": [
    "### **Hypothesis 1: Los Angeles County vs. Rest of California**  \n",
    "\n",
    "ROA is considering a metropolitan-focused approach. Within California, they want to know if the mean AQI in Los Angeles County is statistically different from the rest of California.\n",
    "\n",
    "\n",
    "#### **Hypothesis Formulation:**  \n",
    "- **Null Hypothesis (H₀):** The mean AQI in **Los Angeles County** is **equal to** the rest of California.  \n",
    "- **Alternative Hypothesis (Hₐ):** The mean AQI in **Los Angeles County** is **different from** the rest of California.  "
   ]
  },
  {
   "cell_type": "markdown",
   "metadata": {},
   "source": [
    "#### **Data Preparation:**  \n"
   ]
  },
  {
   "cell_type": "code",
   "execution_count": 244,
   "metadata": {},
   "outputs": [
    {
     "name": "stdout",
     "output_type": "stream",
     "text": [
      "16.285714285714285\n",
      "11.0\n"
     ]
    }
   ],
   "source": [
    "ca_la = epa_data[epa_data['county_name'] == 'Los Angeles']\n",
    "ca_other = epa_data[(epa_data['state_name'] == 'California') & (epa_data['county_name'] != 'Los Angeles')]\n",
    "\n",
    "print(ca_la['aqi'].mean())\n",
    "print(ca_other['aqi'].mean())"
   ]
  },
  {
   "cell_type": "markdown",
   "metadata": {},
   "source": [
    "#### **T-Test and P-Value Calculation:**  \n",
    "\n",
    "Here, I am comparing the sample means between two independent samples in one direction. Therefore, I will utilize a two-sample t-test."
   ]
  },
  {
   "cell_type": "code",
   "execution_count": 245,
   "metadata": {},
   "outputs": [
    {
     "data": {
      "text/plain": [
       "TtestResult(statistic=np.float64(2.1107010796372014), pvalue=np.float64(0.049839056842410995), df=np.float64(17.08246830361151))"
      ]
     },
     "execution_count": 245,
     "metadata": {},
     "output_type": "execute_result"
    }
   ],
   "source": [
    "stats.ttest_ind(a=ca_la['aqi'], b=ca_other['aqi'], equal_var=False)\n"
   ]
  },
  {
   "cell_type": "markdown",
   "metadata": {},
   "source": [
    "#### **Result Interpretation:**  \n",
    "The **p-value is 0.049**, which is **less than** the 5% significance level. This allows me to **reject the null hypothesis** in favor of the alternative hypothesis.  \n",
    "\n",
    "**Conclusion:**  \n",
    "Los Angeles County's AQI is statistically different from the rest of California. Based on this, **a metropolitan-focused strategy could be justified** to improve air quality in California. "
   ]
  },
  {
   "cell_type": "markdown",
   "metadata": {},
   "source": [
    "### **Hypothesis 2: New York vs. Ohio**  \n",
    "\n",
    "With limited resources, ROA has to choose between New York and Ohio for their next regional office. Does New York have a lower AQI than Ohio?\n",
    "\n",
    "#### **Hypothesis Formulation:**  \n",
    "- **Null Hypothesis (H₀):** The mean AQI of **New York** is **greater than or equal to** Ohio.  \n",
    "- **Alternative Hypothesis (Hₐ):** The mean AQI of **New York** is **lower than** Ohio.  \n",
    "\n",
    "#### **Data Preparation:**  \n",
    "\n",
    "Before proceeding with this analysis, it will be helpful to subset the data for the comparison."
   ]
  },
  {
   "cell_type": "code",
   "execution_count": 246,
   "metadata": {},
   "outputs": [],
   "source": [
    "ny = epa_data[epa_data['state_name'] == 'New York']\n",
    "ohio = epa_data[epa_data['state_name'] == 'Ohio']"
   ]
  },
  {
   "cell_type": "markdown",
   "metadata": {},
   "source": [
    "#### **T-Test and P-Value Calculation:**  \n"
   ]
  },
  {
   "cell_type": "code",
   "execution_count": 247,
   "metadata": {},
   "outputs": [
    {
     "name": "stdout",
     "output_type": "stream",
     "text": [
      "-2.025951038880333\n",
      "0.030446502691934683\n"
     ]
    }
   ],
   "source": [
    "tstat, pvalue = stats.ttest_ind(a=ny['aqi'], b=ohio['aqi'], alternative='less', equal_var=False)\n",
    "print(tstat)\n",
    "print(pvalue)"
   ]
  },
  {
   "cell_type": "markdown",
   "metadata": {},
   "source": [
    "#### **Result Interpretation:**  \n",
    "The **p-value is 0.0304**, which is **less than** the 5% significance level, meaning the difference in AQI between New York and Ohio is **statistically significant**.  Additionally, with the t-statistic being negative (-2.025), I  reject the null hypothesis in favor of the alternative hypothesis.\n",
    "\n",
    "**Conclusion:**  \n",
    "Since New York has a **statistically lower** AQI than Ohio, **ROA may consider New York for its next regional office**, assuming AQI is a key factor in the decision.  "
   ]
  },
  {
   "cell_type": "markdown",
   "metadata": {},
   "source": [
    "### **Hypothesis 3: Michigan and the Policy Threshold**  \n",
    "\n",
    "A new policy will affect those states with a mean AQI of 10 or greater. Will Michigan be affected by this new policy?\n",
    "\n",
    "#### **Hypothesis Formulation:**  \n",
    "- **Null Hypothesis (H₀):** Michigan's mean AQI is **less than or equal to** 10.  \n",
    "- **Alternative Hypothesis (Hₐ):** Michigan's mean AQI is **greater than** 10.  \n",
    "\n",
    "#### **Data Preparation:**  "
   ]
  },
  {
   "cell_type": "code",
   "execution_count": 248,
   "metadata": {},
   "outputs": [],
   "source": [
    "michigan = epa_data[epa_data['state_name'] == 'Michigan']\n"
   ]
  },
  {
   "cell_type": "markdown",
   "metadata": {},
   "source": [
    "#### **T-Test and P-Value Calculation:**  \n",
    "\n",
    "Here, I am comparing a single sample mean to a specific value in a single direction. Therefore, I will utilize a one-sample t-test."
   ]
  },
  {
   "cell_type": "code",
   "execution_count": 249,
   "metadata": {},
   "outputs": [
    {
     "name": "stdout",
     "output_type": "stream",
     "text": [
      "-1.7395913343286131\n",
      "0.9399405193140109\n"
     ]
    }
   ],
   "source": [
    "tstat1, pvalue1 = stats.ttest_1samp(michigan['aqi'], 10, alternative='greater')\n",
    "print(tstat1)\n",
    "print(pvalue1)"
   ]
  },
  {
   "cell_type": "markdown",
   "metadata": {},
   "source": [
    "#### **Result Interpretation:**  \n",
    "The **p-value is 0.940**, which is **greater than** the 5% significance level.  \n",
    "\n",
    "**Conclusion:**  \n",
    "I **fail to reject the null hypothesis**, meaning there is **insufficient evidence** to conclude that Michigan's AQI is **greater than 10**. Therefore, **Michigan is unlikely to be affected by the new policy**.  "
   ]
  },
  {
   "cell_type": "markdown",
   "metadata": {},
   "source": [
    "### **Observations:**  \n",
    "\n",
    "- The analysis did not provide sufficient evidence to conclude that Los Angeles County's AQI is statistically different from the rest of California, as the p-value was greater than 0.05.\n",
    "\n",
    "- At a **5% significance level**, the results indicate that **New York has a statistically significantly lower AQI than Ohio**, supporting the alternative hypothesis.\n",
    "\n",
    "- The test results indicate **no statistically significant evidence** that Michigan's mean AQI is greater than 10, as the p-value was greater than 0.05, suggesting that any observed difference could be due to chance."
   ]
  },
  {
   "cell_type": "markdown",
   "metadata": {},
   "source": [
    "### **Key Takeaways**  \n",
    "\n",
    "- **New York has a statistically lower AQI than Ohio**, supporting the decision to prioritize New York for a regional office if air quality is a key factor.  \n",
    "- **Los Angeles County's AQI is not statistically different from the rest of California**, suggesting that air quality concerns are not uniquely concentrated in Los Angeles.  \n",
    "- **Michigan is unlikely to be affected by the new policy**, as its mean AQI was not statistically greater than 10.  \n",
    "- I conducted hypothesis tests using **Welch’s t-test for two-sample comparisons** and **a one-sample t-test for Michigan**, ensuring accurate results despite potential differences in variance.  \n",
    "- Python’s **scipy.stats, pandas, and numpy** libraries were instrumental in performing efficient hypothesis testing and data analysis.  \n",
    "\n",
    "---\n",
    "\n",
    "### **Presentation of Findings**  \n",
    "\n",
    "To effectively communicate these results, I would:  \n",
    "\n",
    "- **Walk through the hypothesis tests** using the notebook, explaining the null and alternative hypotheses, test selection, and statistical outcomes.  \n",
    "- **Summarize key results**:  \n",
    "  - **Los Angeles vs. Rest of California**: No statistically significant difference in AQI, indicating that air quality is not uniquely worse in Los Angeles.  \n",
    "  - **New York vs. Ohio**: A statistically significant difference, confirming that New York has a lower AQI than Ohio.  \n",
    "  - **Michigan’s Policy Impact**: No significant evidence that Michigan’s AQI exceeds 10, suggesting it would not be affected by the policy.  \n",
    "- **Explain the implications**:  \n",
    "  - New York’s lower AQI supports its selection for a regional office.  \n",
    "  - Resources for air quality improvement may not need to be disproportionately allocated to Los Angeles.  \n",
    "  - Michigan may not meet the threshold for policy intervention.  \n",
    "\n",
    "---\n",
    "\n",
    "### **Summary for Stakeholders**  \n",
    "\n",
    "For external stakeholders, I would highlight:  \n",
    "\n",
    "- **New York's AQI is significantly lower than Ohio’s**, making it a more suitable choice for expansion if air quality is a concern.  \n",
    "- **Los Angeles County does not show a significantly worse AQI** than the rest of California, suggesting a more balanced statewide distribution of air quality issues.  \n",
    "- **Michigan is unlikely to be impacted by the new policy**, as its AQI does not statistically exceed the threshold of 10.  \n",
    "- **Statistical rigor**: The analysis used **hypothesis testing at a 5% significance level**, ensuring that findings are data-driven and reliable.  \n",
    "- **Limitations**: While the dataset provided meaningful insights, AQI levels can fluctuate over time, and a broader timeframe would strengthen long-term conclusions.  \n",
    "\n",
    "These findings help guide **policy recommendations and resource allocation** based on statistical evidence, ensuring that decisions are supported by robust data analysis."
   ]
  },
  {
   "cell_type": "markdown",
   "metadata": {},
   "source": [
    "# Conclusion\n",
    "\n",
    "The EPA Carbon Monoxide AQI Analysis project provided a comprehensive exploration of air quality data, focusing on carbon monoxide levels across various regions in the United States. Through descriptive statistics, probability distribution analysis, outlier detection, sampling techniques, and hypothesis testing, we uncovered significant insights into air quality trends and their implications for public health and environmental policy. Key findings include the identification of regions with higher AQI values, the detection of outliers such as West Phoenix, and the confirmation of statistically significant differences in AQI across states. These insights are crucial for informing policy decisions, resource allocation, and targeted interventions to improve air quality and public health."
   ]
  },
  {
   "cell_type": "markdown",
   "metadata": {},
   "source": [
    "# Top Three Recommendations Based on Insights\n",
    "\n",
    "1. **Targeted Interventions for High AQI Regions**: The analysis identified regions with higher AQI values, such as California and West Phoenix, which require immediate attention. These areas should be prioritized for additional funding, stricter environmental regulations, and targeted air quality improvement programs to mitigate the impact of carbon monoxide pollution.\n",
    "\n",
    "2. **Resource Allocation Based on State-Level Disparities**: The hypothesis test revealed a statistically significant difference in AQI between states like New York and Ohio. Given that New York has a lower AQI, it may be a more suitable location for new regional offices or initiatives. Conversely, states with higher AQI values, such as California, should receive more resources and support to address air quality issues.\n",
    "\n",
    "3. **Focus on Michigan for Proactive Monitoring**: While Michigan’s mean AQI is currently below the policy threshold of 10, the analysis showed that some areas within the state have AQI values close to or slightly above this threshold. Proactive monitoring and localized interventions in these areas can prevent future deterioration in air quality. Additionally, Michigan’s proximity to industrial hubs and its seasonal weather patterns make it a region of interest for long-term air quality management."
   ]
  },
  {
   "cell_type": "markdown",
   "metadata": {},
   "source": [
    "# Application of Insights\n",
    "\n",
    "The insights gained from this analysis have several practical applications:\n",
    "\n",
    "- **Policy Formulation and Resource Allocation**: The findings can guide policymakers in formulating targeted policies and allocating resources to regions with the greatest need. By focusing on high AQI regions, the government can ensure that resources are used effectively to improve air quality and public health.\n",
    "\n",
    "- **Environmental Program Development**: The identification of specific regions with high AQI values can inform the development of tailored environmental programs. These programs can address the unique challenges faced by these regions, such as industrial emissions, traffic congestion, or geographic influences.\n",
    "\n",
    "- **Monitoring and Evaluation**: The insights can be used to establish a framework for monitoring and evaluating the impact of interventions. By tracking AQI levels over time, the EPA can assess the effectiveness of its programs and make data-driven adjustments to ensure continuous improvement in air quality.\n"
   ]
  },
  {
   "cell_type": "markdown",
   "metadata": {},
   "source": [
    "# Next Steps\n",
    "\n",
    "- **Expand Analysis to Other AQI Pollutants**: While this analysis focused on carbon monoxide, future research can specialize in other AQI pollutants, such as nitrogen dioxide, sulfur dioxide, and ozone. Investigating these gases individually can provide deeper insights into their sources, trends, and health impacts, leading to more effective air quality management strategies.\n",
    "\n",
    "- **Expand Data Collection and Analysis**: Future efforts should focus on expanding the dataset to include more recent data and additional variables that may influence AQI, such as traffic density, industrial emissions, and weather patterns. This will provide a more comprehensive understanding of the factors affecting air quality and enable more targeted interventions.\n",
    "\n",
    "- **Develop Predictive Models**: Using the insights from this analysis, predictive models can be developed to forecast future AQI levels based on historical trends and other influencing factors. These models can help policymakers anticipate challenges and proactively allocate resources to prevent further deterioration in air quality.\n",
    "\n",
    "- **Conduct Region-Specific Studies**: While this analysis provided a broad overview of AQI across regions, region-specific studies can offer deeper insights into localized challenges and opportunities. For example, focusing on urban versus rural areas or specific states like Michigan can help identify unique trends and inform more targeted strategies.\n",
    "\n",
    "- **Integrate with Other Environmental Data**: Combining AQI data with other environmental datasets, such as particulate matter levels, ozone concentrations, and weather data, can provide a more holistic understanding of air quality. This integrated approach can enhance the accuracy of predictive models and improve the effectiveness of intervention strategies.\n",
    "\n",
    "\n",
    "By building on the insights from this project, future research can further advance our understanding of air quality trends and their implications for environmental policy, resource allocation, and public health strategies. This will ultimately contribute to the nation's goal of achieving cleaner air and a healthier environment for all."
   ]
  }
 ],
 "metadata": {
  "kernelspec": {
   "display_name": "venv",
   "language": "python",
   "name": "python3"
  },
  "language_info": {
   "codemirror_mode": {
    "name": "ipython",
    "version": 3
   },
   "file_extension": ".py",
   "mimetype": "text/x-python",
   "name": "python",
   "nbconvert_exporter": "python",
   "pygments_lexer": "ipython3",
   "version": "3.13.0"
  }
 },
 "nbformat": 4,
 "nbformat_minor": 2
}
